{
  "nbformat": 4,
  "nbformat_minor": 0,
  "metadata": {
    "kernelspec": {
      "display_name": "Python 3",
      "language": "python",
      "name": "python3"
    },
    "language_info": {
      "codemirror_mode": {
        "name": "ipython",
        "version": 3
      },
      "file_extension": ".py",
      "mimetype": "text/x-python",
      "name": "python",
      "nbconvert_exporter": "python",
      "pygments_lexer": "ipython3",
      "version": "3.7.3"
    },
    "colab": {
      "name": "Lin Reg_HeatingCooling_load_Prediction_Solutions.ipynb",
      "provenance": [],
      "include_colab_link": true
    }
  },
  "cells": [
    {
      "cell_type": "markdown",
      "metadata": {
        "id": "view-in-github",
        "colab_type": "text"
      },
      "source": [
        "<a href=\"https://colab.research.google.com/github/11AJ/ML_projects_TGC/blob/main/Lin_Reg_HeatingCooling_load_Prediction_Solutions.ipynb\" target=\"_parent\"><img src=\"https://colab.research.google.com/assets/colab-badge.svg\" alt=\"Open In Colab\"/></a>"
      ]
    },
    {
      "cell_type": "markdown",
      "metadata": {
        "id": "VWPqUpYoBoXG"
      },
      "source": [
        "<b>Regression Task</b><br>\n",
        "Use the given dataset and perform the following:-\n",
        "<ol>\n",
        "<li> Read the 'heat_load.xlsx' dataset.</li>\n",
        "<li> Rename the columns as per the given features</li> \n",
        "<li> Remove/handle null values if any</li>    \n",
        "<li> Considering all the features as independent features (except heating and cooling load) Split the dataset into training and test dataset with test_size = 25%</li>\n",
        "<li> Predict the Heating load based on features from X1 to X8 and also calculate\n",
        "the model score. Also find the intercept and the coefficients corresponding to\n",
        "each of these features. Generate equation of Linear regression</li>\n",
        "<li>Predict the Cooling load based on features from X1 to X8 and also calculate\n",
        "the model score. Also find the intercept and the coefficients corresponding \n",
        "to each of these features. Generate equation of Linear regression</li>\n",
        "<li> Compute MSE, MAE, RMSE for two scenarios(5 and 6)</li> \n",
        "<li>Select appropriate independent features based on Correlation matrix</li>\n",
        "<li>Repeat Q5 and Q7 for heating load after the original dataset has been split into training and testing dataset with test_size=25% with appropriate independent features selected from correlation matrix</li>\n",
        "<li>Repeat Q6 and Q7 for cooling load after the original dataset has been split into training and testing dataset with test_size=25% with appropriate independent features selected from correlation matrix</li>   \n",
        "</ol>"
      ]
    },
    {
      "cell_type": "code",
      "metadata": {
        "id": "GZ-xI8c4BoXI"
      },
      "source": [
        "import pandas as pd\n",
        "import numpy as np\n",
        "import matplotlib.pyplot as plt\n",
        "import seaborn as sns"
      ],
      "execution_count": null,
      "outputs": []
    },
    {
      "cell_type": "code",
      "metadata": {
        "id": "tij6NF0eBoXJ",
        "outputId": "6506f638-d1a9-4ca9-fc95-e0c58d4bcde1"
      },
      "source": [
        "df = pd.read_excel('heat_load.xlsx')\n",
        "df.head()"
      ],
      "execution_count": null,
      "outputs": [
        {
          "data": {
            "text/html": [
              "<div>\n",
              "<style scoped>\n",
              "    .dataframe tbody tr th:only-of-type {\n",
              "        vertical-align: middle;\n",
              "    }\n",
              "\n",
              "    .dataframe tbody tr th {\n",
              "        vertical-align: top;\n",
              "    }\n",
              "\n",
              "    .dataframe thead th {\n",
              "        text-align: right;\n",
              "    }\n",
              "</style>\n",
              "<table border=\"1\" class=\"dataframe\">\n",
              "  <thead>\n",
              "    <tr style=\"text-align: right;\">\n",
              "      <th></th>\n",
              "      <th>X1</th>\n",
              "      <th>X2</th>\n",
              "      <th>X3</th>\n",
              "      <th>X4</th>\n",
              "      <th>X5</th>\n",
              "      <th>X6</th>\n",
              "      <th>X7</th>\n",
              "      <th>X8</th>\n",
              "      <th>Y1</th>\n",
              "      <th>Y2</th>\n",
              "    </tr>\n",
              "  </thead>\n",
              "  <tbody>\n",
              "    <tr>\n",
              "      <th>0</th>\n",
              "      <td>0.98</td>\n",
              "      <td>514.5</td>\n",
              "      <td>294.0</td>\n",
              "      <td>110.25</td>\n",
              "      <td>7.0</td>\n",
              "      <td>2</td>\n",
              "      <td>0.0</td>\n",
              "      <td>0</td>\n",
              "      <td>15.55</td>\n",
              "      <td>21.33</td>\n",
              "    </tr>\n",
              "    <tr>\n",
              "      <th>1</th>\n",
              "      <td>0.98</td>\n",
              "      <td>514.5</td>\n",
              "      <td>294.0</td>\n",
              "      <td>110.25</td>\n",
              "      <td>7.0</td>\n",
              "      <td>3</td>\n",
              "      <td>0.0</td>\n",
              "      <td>0</td>\n",
              "      <td>15.55</td>\n",
              "      <td>21.33</td>\n",
              "    </tr>\n",
              "    <tr>\n",
              "      <th>2</th>\n",
              "      <td>0.98</td>\n",
              "      <td>514.5</td>\n",
              "      <td>294.0</td>\n",
              "      <td>110.25</td>\n",
              "      <td>7.0</td>\n",
              "      <td>4</td>\n",
              "      <td>0.0</td>\n",
              "      <td>0</td>\n",
              "      <td>15.55</td>\n",
              "      <td>21.33</td>\n",
              "    </tr>\n",
              "    <tr>\n",
              "      <th>3</th>\n",
              "      <td>0.98</td>\n",
              "      <td>514.5</td>\n",
              "      <td>294.0</td>\n",
              "      <td>110.25</td>\n",
              "      <td>7.0</td>\n",
              "      <td>5</td>\n",
              "      <td>0.0</td>\n",
              "      <td>0</td>\n",
              "      <td>15.55</td>\n",
              "      <td>21.33</td>\n",
              "    </tr>\n",
              "    <tr>\n",
              "      <th>4</th>\n",
              "      <td>0.90</td>\n",
              "      <td>563.5</td>\n",
              "      <td>318.5</td>\n",
              "      <td>122.50</td>\n",
              "      <td>7.0</td>\n",
              "      <td>2</td>\n",
              "      <td>0.0</td>\n",
              "      <td>0</td>\n",
              "      <td>20.84</td>\n",
              "      <td>28.28</td>\n",
              "    </tr>\n",
              "  </tbody>\n",
              "</table>\n",
              "</div>"
            ],
            "text/plain": [
              "     X1     X2     X3      X4   X5  X6   X7  X8     Y1     Y2\n",
              "0  0.98  514.5  294.0  110.25  7.0   2  0.0   0  15.55  21.33\n",
              "1  0.98  514.5  294.0  110.25  7.0   3  0.0   0  15.55  21.33\n",
              "2  0.98  514.5  294.0  110.25  7.0   4  0.0   0  15.55  21.33\n",
              "3  0.98  514.5  294.0  110.25  7.0   5  0.0   0  15.55  21.33\n",
              "4  0.90  563.5  318.5  122.50  7.0   2  0.0   0  20.84  28.28"
            ]
          },
          "execution_count": 2,
          "metadata": {},
          "output_type": "execute_result"
        }
      ]
    },
    {
      "cell_type": "code",
      "metadata": {
        "id": "9fDH-8vxBoXK",
        "outputId": "301d650c-e136-41c3-8273-79f1b0eaf79a"
      },
      "source": [
        "\"\"\"\n",
        "X1 - Relative Compactness\n",
        "X2 - Surface Area\n",
        "X3 - Wall Area\n",
        "X4 - Roof Area\n",
        "X5 - Overall Height\n",
        "X6 - Orientation\n",
        "X7 - Glazing Area\n",
        "X8 - Glazing Area Distrbution\n",
        "Y1 - Heating Load\n",
        "Y2 - Cooling Load\n",
        "\n",
        "\n",
        "\"\"\""
      ],
      "execution_count": null,
      "outputs": [
        {
          "data": {
            "text/plain": [
              "'\\nX1 - Relative Compactness\\nX2 - Surface Area\\nX3 - Wall Area\\nX4 - Roof Area\\nX5 - Overall Height\\nX6 - Orientation\\nX7 - Glazing Area\\nX8 - Glazing Area Distrbution\\nY1 - Heating Load\\nY2 - Cooling Load\\n\\n\\n'"
            ]
          },
          "execution_count": 3,
          "metadata": {},
          "output_type": "execute_result"
        }
      ]
    },
    {
      "cell_type": "code",
      "metadata": {
        "id": "ElAImR-uBoXL",
        "outputId": "c8f65fa8-2234-4f38-fffb-fcaff3490c8f"
      },
      "source": [
        "df.columns= ['compact','s_area','w_area','r_area','height','orient',\n",
        "             'g_area','g_area_dist','heat_load','cool_load']\n",
        "df.head()"
      ],
      "execution_count": null,
      "outputs": [
        {
          "data": {
            "text/html": [
              "<div>\n",
              "<style scoped>\n",
              "    .dataframe tbody tr th:only-of-type {\n",
              "        vertical-align: middle;\n",
              "    }\n",
              "\n",
              "    .dataframe tbody tr th {\n",
              "        vertical-align: top;\n",
              "    }\n",
              "\n",
              "    .dataframe thead th {\n",
              "        text-align: right;\n",
              "    }\n",
              "</style>\n",
              "<table border=\"1\" class=\"dataframe\">\n",
              "  <thead>\n",
              "    <tr style=\"text-align: right;\">\n",
              "      <th></th>\n",
              "      <th>compact</th>\n",
              "      <th>s_area</th>\n",
              "      <th>w_area</th>\n",
              "      <th>r_area</th>\n",
              "      <th>height</th>\n",
              "      <th>orient</th>\n",
              "      <th>g_area</th>\n",
              "      <th>g_area_dist</th>\n",
              "      <th>heat_load</th>\n",
              "      <th>cool_load</th>\n",
              "    </tr>\n",
              "  </thead>\n",
              "  <tbody>\n",
              "    <tr>\n",
              "      <th>0</th>\n",
              "      <td>0.98</td>\n",
              "      <td>514.5</td>\n",
              "      <td>294.0</td>\n",
              "      <td>110.25</td>\n",
              "      <td>7.0</td>\n",
              "      <td>2</td>\n",
              "      <td>0.0</td>\n",
              "      <td>0</td>\n",
              "      <td>15.55</td>\n",
              "      <td>21.33</td>\n",
              "    </tr>\n",
              "    <tr>\n",
              "      <th>1</th>\n",
              "      <td>0.98</td>\n",
              "      <td>514.5</td>\n",
              "      <td>294.0</td>\n",
              "      <td>110.25</td>\n",
              "      <td>7.0</td>\n",
              "      <td>3</td>\n",
              "      <td>0.0</td>\n",
              "      <td>0</td>\n",
              "      <td>15.55</td>\n",
              "      <td>21.33</td>\n",
              "    </tr>\n",
              "    <tr>\n",
              "      <th>2</th>\n",
              "      <td>0.98</td>\n",
              "      <td>514.5</td>\n",
              "      <td>294.0</td>\n",
              "      <td>110.25</td>\n",
              "      <td>7.0</td>\n",
              "      <td>4</td>\n",
              "      <td>0.0</td>\n",
              "      <td>0</td>\n",
              "      <td>15.55</td>\n",
              "      <td>21.33</td>\n",
              "    </tr>\n",
              "    <tr>\n",
              "      <th>3</th>\n",
              "      <td>0.98</td>\n",
              "      <td>514.5</td>\n",
              "      <td>294.0</td>\n",
              "      <td>110.25</td>\n",
              "      <td>7.0</td>\n",
              "      <td>5</td>\n",
              "      <td>0.0</td>\n",
              "      <td>0</td>\n",
              "      <td>15.55</td>\n",
              "      <td>21.33</td>\n",
              "    </tr>\n",
              "    <tr>\n",
              "      <th>4</th>\n",
              "      <td>0.90</td>\n",
              "      <td>563.5</td>\n",
              "      <td>318.5</td>\n",
              "      <td>122.50</td>\n",
              "      <td>7.0</td>\n",
              "      <td>2</td>\n",
              "      <td>0.0</td>\n",
              "      <td>0</td>\n",
              "      <td>20.84</td>\n",
              "      <td>28.28</td>\n",
              "    </tr>\n",
              "  </tbody>\n",
              "</table>\n",
              "</div>"
            ],
            "text/plain": [
              "   compact  s_area  w_area  r_area  height  orient  g_area  g_area_dist  \\\n",
              "0     0.98   514.5   294.0  110.25     7.0       2     0.0            0   \n",
              "1     0.98   514.5   294.0  110.25     7.0       3     0.0            0   \n",
              "2     0.98   514.5   294.0  110.25     7.0       4     0.0            0   \n",
              "3     0.98   514.5   294.0  110.25     7.0       5     0.0            0   \n",
              "4     0.90   563.5   318.5  122.50     7.0       2     0.0            0   \n",
              "\n",
              "   heat_load  cool_load  \n",
              "0      15.55      21.33  \n",
              "1      15.55      21.33  \n",
              "2      15.55      21.33  \n",
              "3      15.55      21.33  \n",
              "4      20.84      28.28  "
            ]
          },
          "execution_count": 4,
          "metadata": {},
          "output_type": "execute_result"
        }
      ]
    },
    {
      "cell_type": "code",
      "metadata": {
        "id": "eVRoRVg_BoXL",
        "outputId": "342b9f50-0113-41d0-b8ea-06f210ed93ca"
      },
      "source": [
        "df.shape"
      ],
      "execution_count": null,
      "outputs": [
        {
          "data": {
            "text/plain": [
              "(768, 10)"
            ]
          },
          "execution_count": 5,
          "metadata": {},
          "output_type": "execute_result"
        }
      ]
    },
    {
      "cell_type": "code",
      "metadata": {
        "id": "yVtHdC_9BoXM",
        "outputId": "78b700d6-c600-4f12-a6f4-6c046553f1a5"
      },
      "source": [
        "df.isnull().sum()"
      ],
      "execution_count": null,
      "outputs": [
        {
          "data": {
            "text/plain": [
              "compact        0\n",
              "s_area         0\n",
              "w_area         0\n",
              "r_area         0\n",
              "height         0\n",
              "orient         0\n",
              "g_area         0\n",
              "g_area_dist    0\n",
              "heat_load      0\n",
              "cool_load      0\n",
              "dtype: int64"
            ]
          },
          "execution_count": 6,
          "metadata": {},
          "output_type": "execute_result"
        }
      ]
    },
    {
      "cell_type": "code",
      "metadata": {
        "id": "Qp8Wy1iqBoXN",
        "outputId": "c3355d5c-a11d-43bb-8fbb-8cb5f1a61df8"
      },
      "source": [
        "df.head(2)"
      ],
      "execution_count": null,
      "outputs": [
        {
          "data": {
            "text/html": [
              "<div>\n",
              "<style scoped>\n",
              "    .dataframe tbody tr th:only-of-type {\n",
              "        vertical-align: middle;\n",
              "    }\n",
              "\n",
              "    .dataframe tbody tr th {\n",
              "        vertical-align: top;\n",
              "    }\n",
              "\n",
              "    .dataframe thead th {\n",
              "        text-align: right;\n",
              "    }\n",
              "</style>\n",
              "<table border=\"1\" class=\"dataframe\">\n",
              "  <thead>\n",
              "    <tr style=\"text-align: right;\">\n",
              "      <th></th>\n",
              "      <th>compact</th>\n",
              "      <th>s_area</th>\n",
              "      <th>w_area</th>\n",
              "      <th>r_area</th>\n",
              "      <th>height</th>\n",
              "      <th>orient</th>\n",
              "      <th>g_area</th>\n",
              "      <th>g_area_dist</th>\n",
              "      <th>heat_load</th>\n",
              "      <th>cool_load</th>\n",
              "    </tr>\n",
              "  </thead>\n",
              "  <tbody>\n",
              "    <tr>\n",
              "      <th>0</th>\n",
              "      <td>0.98</td>\n",
              "      <td>514.5</td>\n",
              "      <td>294.0</td>\n",
              "      <td>110.25</td>\n",
              "      <td>7.0</td>\n",
              "      <td>2</td>\n",
              "      <td>0.0</td>\n",
              "      <td>0</td>\n",
              "      <td>15.55</td>\n",
              "      <td>21.33</td>\n",
              "    </tr>\n",
              "    <tr>\n",
              "      <th>1</th>\n",
              "      <td>0.98</td>\n",
              "      <td>514.5</td>\n",
              "      <td>294.0</td>\n",
              "      <td>110.25</td>\n",
              "      <td>7.0</td>\n",
              "      <td>3</td>\n",
              "      <td>0.0</td>\n",
              "      <td>0</td>\n",
              "      <td>15.55</td>\n",
              "      <td>21.33</td>\n",
              "    </tr>\n",
              "  </tbody>\n",
              "</table>\n",
              "</div>"
            ],
            "text/plain": [
              "   compact  s_area  w_area  r_area  height  orient  g_area  g_area_dist  \\\n",
              "0     0.98   514.5   294.0  110.25     7.0       2     0.0            0   \n",
              "1     0.98   514.5   294.0  110.25     7.0       3     0.0            0   \n",
              "\n",
              "   heat_load  cool_load  \n",
              "0      15.55      21.33  \n",
              "1      15.55      21.33  "
            ]
          },
          "execution_count": 7,
          "metadata": {},
          "output_type": "execute_result"
        }
      ]
    },
    {
      "cell_type": "markdown",
      "metadata": {
        "id": "9QpF2VdmBoXN"
      },
      "source": [
        "### Prediction of Heating Load"
      ]
    },
    {
      "cell_type": "code",
      "metadata": {
        "id": "3Fp9Dfg2BoXO",
        "outputId": "9c6ae3ff-8a40-4a9a-9f69-50c6af7da792"
      },
      "source": [
        "x = df.iloc[:,:-2] # X1-X8\n",
        "y = df.iloc[:,-2]  # heating load\n",
        "print(x.shape)\n",
        "print(y.shape)"
      ],
      "execution_count": null,
      "outputs": [
        {
          "name": "stdout",
          "output_type": "stream",
          "text": [
            "(768, 8)\n",
            "(768,)\n"
          ]
        }
      ]
    },
    {
      "cell_type": "code",
      "metadata": {
        "id": "TD1QdrraBoXP"
      },
      "source": [
        "from sklearn.model_selection import train_test_split\n",
        "x_train,x_test,y_train,y_test = train_test_split(x,y,test_size=0.25)"
      ],
      "execution_count": null,
      "outputs": []
    },
    {
      "cell_type": "code",
      "metadata": {
        "id": "MD9SMg5MBoXP",
        "outputId": "30f1cf5d-d5ec-448a-f748-0f637501801b"
      },
      "source": [
        "print(x_train.shape)\n",
        "print(x_test.shape)\n",
        "print(y_train.shape)\n",
        "print(y_test.shape)"
      ],
      "execution_count": null,
      "outputs": [
        {
          "name": "stdout",
          "output_type": "stream",
          "text": [
            "(576, 8)\n",
            "(192, 8)\n",
            "(576,)\n",
            "(192,)\n"
          ]
        }
      ]
    },
    {
      "cell_type": "code",
      "metadata": {
        "id": "TG79GChLBoXP"
      },
      "source": [
        "from sklearn.linear_model import LinearRegression"
      ],
      "execution_count": null,
      "outputs": []
    },
    {
      "cell_type": "code",
      "metadata": {
        "id": "NOkIR5gUBoXQ",
        "outputId": "398810de-9fbe-4cd3-87fd-caceda29a41e"
      },
      "source": [
        "reg = LinearRegression()\n",
        "reg.fit(x_train,y_train)"
      ],
      "execution_count": null,
      "outputs": [
        {
          "data": {
            "text/plain": [
              "LinearRegression()"
            ]
          },
          "execution_count": 12,
          "metadata": {},
          "output_type": "execute_result"
        }
      ]
    },
    {
      "cell_type": "code",
      "metadata": {
        "id": "I0XrxPjvBoXR",
        "outputId": "aaeabe7a-db5e-47f2-ea51-07a78d587939"
      },
      "source": [
        "reg.score(x_train,y_train)"
      ],
      "execution_count": null,
      "outputs": [
        {
          "data": {
            "text/plain": [
              "0.9179948432596498"
            ]
          },
          "execution_count": 13,
          "metadata": {},
          "output_type": "execute_result"
        }
      ]
    },
    {
      "cell_type": "code",
      "metadata": {
        "id": "E1FNA6LcBoXS",
        "outputId": "96e6cf92-93a3-4c78-ebf3-fc4d36f7bdd4"
      },
      "source": [
        "reg.score(x_test,y_test)"
      ],
      "execution_count": null,
      "outputs": [
        {
          "data": {
            "text/plain": [
              "0.90955065084125"
            ]
          },
          "execution_count": 14,
          "metadata": {},
          "output_type": "execute_result"
        }
      ]
    },
    {
      "cell_type": "code",
      "metadata": {
        "id": "L-UZm8seBoXS",
        "outputId": "1d604e60-0d61-47d3-8be2-9627d9f1bd2b"
      },
      "source": [
        "y_pred = reg.predict(x_test)\n",
        "len(y_test)"
      ],
      "execution_count": null,
      "outputs": [
        {
          "data": {
            "text/plain": [
              "192"
            ]
          },
          "execution_count": 15,
          "metadata": {},
          "output_type": "execute_result"
        }
      ]
    },
    {
      "cell_type": "code",
      "metadata": {
        "id": "3vWWvpm1BoXS",
        "outputId": "2fe3140f-57f0-4dee-8237-32455ce1764b"
      },
      "source": [
        "reg.coef_"
      ],
      "execution_count": null,
      "outputs": [
        {
          "data": {
            "text/plain": [
              "array([-6.39361840e+01,  5.78749541e+10, -5.78749541e+10, -1.15749908e+11,\n",
              "        4.19577563e+00, -5.93708083e-03,  1.91078568e+01,  2.06867015e-01])"
            ]
          },
          "execution_count": 16,
          "metadata": {},
          "output_type": "execute_result"
        }
      ]
    },
    {
      "cell_type": "code",
      "metadata": {
        "id": "zb60p8lZBoXS",
        "outputId": "654d9d2b-5b88-480a-9c3b-86387c289129"
      },
      "source": [
        "reg.intercept_"
      ],
      "execution_count": null,
      "outputs": [
        {
          "data": {
            "text/plain": [
              "83.04353310243103"
            ]
          },
          "execution_count": 17,
          "metadata": {},
          "output_type": "execute_result"
        }
      ]
    },
    {
      "cell_type": "code",
      "metadata": {
        "id": "rQFhhkdXBoXS"
      },
      "source": [
        "# df2 = pd.DataFrame({'y_orig':y_test,'y_pred':y_pred})\n",
        "# df2.head(10)"
      ],
      "execution_count": null,
      "outputs": []
    },
    {
      "cell_type": "code",
      "metadata": {
        "id": "F7ZLCE4ZBoXT",
        "outputId": "5530d42c-0b21-4235-a036-b81eedd1a916"
      },
      "source": [
        "df.columns"
      ],
      "execution_count": null,
      "outputs": [
        {
          "data": {
            "text/plain": [
              "Index(['compact', 's_area', 'w_area', 'r_area', 'height', 'orient', 'g_area',\n",
              "       'g_area_dist', 'heat_load', 'cool_load'],\n",
              "      dtype='object')"
            ]
          },
          "execution_count": 19,
          "metadata": {},
          "output_type": "execute_result"
        }
      ]
    },
    {
      "cell_type": "code",
      "metadata": {
        "id": "CelEp_MFBoXT",
        "outputId": "d66a2df3-b8a9-4a82-b95b-ac2ab5def16d"
      },
      "source": [
        "x_test['y_true'] = y_test\n",
        "x_test['y_pred'] = y_pred\n",
        "x_test.head()"
      ],
      "execution_count": null,
      "outputs": [
        {
          "name": "stderr",
          "output_type": "stream",
          "text": [
            "E:\\Users\\lenovo\\Anaconda3\\lib\\site-packages\\ipykernel_launcher.py:1: SettingWithCopyWarning: \n",
            "A value is trying to be set on a copy of a slice from a DataFrame.\n",
            "Try using .loc[row_indexer,col_indexer] = value instead\n",
            "\n",
            "See the caveats in the documentation: https://pandas.pydata.org/pandas-docs/stable/user_guide/indexing.html#returning-a-view-versus-a-copy\n",
            "  \"\"\"Entry point for launching an IPython kernel.\n",
            "E:\\Users\\lenovo\\Anaconda3\\lib\\site-packages\\ipykernel_launcher.py:2: SettingWithCopyWarning: \n",
            "A value is trying to be set on a copy of a slice from a DataFrame.\n",
            "Try using .loc[row_indexer,col_indexer] = value instead\n",
            "\n",
            "See the caveats in the documentation: https://pandas.pydata.org/pandas-docs/stable/user_guide/indexing.html#returning-a-view-versus-a-copy\n",
            "  \n"
          ]
        },
        {
          "data": {
            "text/html": [
              "<div>\n",
              "<style scoped>\n",
              "    .dataframe tbody tr th:only-of-type {\n",
              "        vertical-align: middle;\n",
              "    }\n",
              "\n",
              "    .dataframe tbody tr th {\n",
              "        vertical-align: top;\n",
              "    }\n",
              "\n",
              "    .dataframe thead th {\n",
              "        text-align: right;\n",
              "    }\n",
              "</style>\n",
              "<table border=\"1\" class=\"dataframe\">\n",
              "  <thead>\n",
              "    <tr style=\"text-align: right;\">\n",
              "      <th></th>\n",
              "      <th>compact</th>\n",
              "      <th>s_area</th>\n",
              "      <th>w_area</th>\n",
              "      <th>r_area</th>\n",
              "      <th>height</th>\n",
              "      <th>orient</th>\n",
              "      <th>g_area</th>\n",
              "      <th>g_area_dist</th>\n",
              "      <th>y_true</th>\n",
              "      <th>y_pred</th>\n",
              "    </tr>\n",
              "  </thead>\n",
              "  <tbody>\n",
              "    <tr>\n",
              "      <th>539</th>\n",
              "      <td>0.86</td>\n",
              "      <td>588.0</td>\n",
              "      <td>294.0</td>\n",
              "      <td>147.00</td>\n",
              "      <td>7.0</td>\n",
              "      <td>5</td>\n",
              "      <td>0.40</td>\n",
              "      <td>1</td>\n",
              "      <td>31.29</td>\n",
              "      <td>32.089756</td>\n",
              "    </tr>\n",
              "    <tr>\n",
              "      <th>416</th>\n",
              "      <td>0.69</td>\n",
              "      <td>735.0</td>\n",
              "      <td>294.0</td>\n",
              "      <td>220.50</td>\n",
              "      <td>3.5</td>\n",
              "      <td>2</td>\n",
              "      <td>0.25</td>\n",
              "      <td>3</td>\n",
              "      <td>12.34</td>\n",
              "      <td>13.188658</td>\n",
              "    </tr>\n",
              "    <tr>\n",
              "      <th>116</th>\n",
              "      <td>0.76</td>\n",
              "      <td>661.5</td>\n",
              "      <td>416.5</td>\n",
              "      <td>122.50</td>\n",
              "      <td>7.0</td>\n",
              "      <td>2</td>\n",
              "      <td>0.10</td>\n",
              "      <td>2</td>\n",
              "      <td>33.16</td>\n",
              "      <td>33.914108</td>\n",
              "    </tr>\n",
              "    <tr>\n",
              "      <th>242</th>\n",
              "      <td>0.98</td>\n",
              "      <td>514.5</td>\n",
              "      <td>294.0</td>\n",
              "      <td>110.25</td>\n",
              "      <td>7.0</td>\n",
              "      <td>4</td>\n",
              "      <td>0.10</td>\n",
              "      <td>5</td>\n",
              "      <td>24.03</td>\n",
              "      <td>25.843147</td>\n",
              "    </tr>\n",
              "    <tr>\n",
              "      <th>226</th>\n",
              "      <td>0.69</td>\n",
              "      <td>735.0</td>\n",
              "      <td>294.0</td>\n",
              "      <td>220.50</td>\n",
              "      <td>3.5</td>\n",
              "      <td>4</td>\n",
              "      <td>0.10</td>\n",
              "      <td>4</td>\n",
              "      <td>11.07</td>\n",
              "      <td>10.517472</td>\n",
              "    </tr>\n",
              "  </tbody>\n",
              "</table>\n",
              "</div>"
            ],
            "text/plain": [
              "     compact  s_area  w_area  r_area  height  orient  g_area  g_area_dist  \\\n",
              "539     0.86   588.0   294.0  147.00     7.0       5    0.40            1   \n",
              "416     0.69   735.0   294.0  220.50     3.5       2    0.25            3   \n",
              "116     0.76   661.5   416.5  122.50     7.0       2    0.10            2   \n",
              "242     0.98   514.5   294.0  110.25     7.0       4    0.10            5   \n",
              "226     0.69   735.0   294.0  220.50     3.5       4    0.10            4   \n",
              "\n",
              "     y_true     y_pred  \n",
              "539   31.29  32.089756  \n",
              "416   12.34  13.188658  \n",
              "116   33.16  33.914108  \n",
              "242   24.03  25.843147  \n",
              "226   11.07  10.517472  "
            ]
          },
          "execution_count": 20,
          "metadata": {},
          "output_type": "execute_result"
        }
      ]
    },
    {
      "cell_type": "code",
      "metadata": {
        "id": "jnodlDpkBoXT",
        "outputId": "335292cb-cab7-4ed2-e928-0d6db63a634f"
      },
      "source": [
        "### Eqn \n",
        "x_test['HeatLoad_pred_eqn'] = x_test['compact']*reg.coef_[0] + \\\n",
        "                x_test['s_area']*reg.coef_[1] + \\\n",
        "                x_test['w_area']*reg.coef_[2] + x_test['r_area']*reg.coef_[3] + \\\n",
        "                x_test['height']*reg.coef_[4] + x_test['orient']*reg.coef_[5] + \\\n",
        "                x_test['g_area']*reg.coef_[6] + x_test['g_area_dist']*reg.coef_[7] +\\\n",
        "                reg.intercept_\n",
        "x_test.head()"
      ],
      "execution_count": null,
      "outputs": [
        {
          "name": "stderr",
          "output_type": "stream",
          "text": [
            "E:\\Users\\lenovo\\Anaconda3\\lib\\site-packages\\ipykernel_launcher.py:7: SettingWithCopyWarning: \n",
            "A value is trying to be set on a copy of a slice from a DataFrame.\n",
            "Try using .loc[row_indexer,col_indexer] = value instead\n",
            "\n",
            "See the caveats in the documentation: https://pandas.pydata.org/pandas-docs/stable/user_guide/indexing.html#returning-a-view-versus-a-copy\n",
            "  import sys\n"
          ]
        },
        {
          "data": {
            "text/html": [
              "<div>\n",
              "<style scoped>\n",
              "    .dataframe tbody tr th:only-of-type {\n",
              "        vertical-align: middle;\n",
              "    }\n",
              "\n",
              "    .dataframe tbody tr th {\n",
              "        vertical-align: top;\n",
              "    }\n",
              "\n",
              "    .dataframe thead th {\n",
              "        text-align: right;\n",
              "    }\n",
              "</style>\n",
              "<table border=\"1\" class=\"dataframe\">\n",
              "  <thead>\n",
              "    <tr style=\"text-align: right;\">\n",
              "      <th></th>\n",
              "      <th>compact</th>\n",
              "      <th>s_area</th>\n",
              "      <th>w_area</th>\n",
              "      <th>r_area</th>\n",
              "      <th>height</th>\n",
              "      <th>orient</th>\n",
              "      <th>g_area</th>\n",
              "      <th>g_area_dist</th>\n",
              "      <th>y_true</th>\n",
              "      <th>y_pred</th>\n",
              "      <th>HeatLoad_pred_eqn</th>\n",
              "    </tr>\n",
              "  </thead>\n",
              "  <tbody>\n",
              "    <tr>\n",
              "      <th>539</th>\n",
              "      <td>0.86</td>\n",
              "      <td>588.0</td>\n",
              "      <td>294.0</td>\n",
              "      <td>147.00</td>\n",
              "      <td>7.0</td>\n",
              "      <td>5</td>\n",
              "      <td>0.40</td>\n",
              "      <td>1</td>\n",
              "      <td>31.29</td>\n",
              "      <td>32.089756</td>\n",
              "      <td>32.089756</td>\n",
              "    </tr>\n",
              "    <tr>\n",
              "      <th>416</th>\n",
              "      <td>0.69</td>\n",
              "      <td>735.0</td>\n",
              "      <td>294.0</td>\n",
              "      <td>220.50</td>\n",
              "      <td>3.5</td>\n",
              "      <td>2</td>\n",
              "      <td>0.25</td>\n",
              "      <td>3</td>\n",
              "      <td>12.34</td>\n",
              "      <td>13.188658</td>\n",
              "      <td>13.188658</td>\n",
              "    </tr>\n",
              "    <tr>\n",
              "      <th>116</th>\n",
              "      <td>0.76</td>\n",
              "      <td>661.5</td>\n",
              "      <td>416.5</td>\n",
              "      <td>122.50</td>\n",
              "      <td>7.0</td>\n",
              "      <td>2</td>\n",
              "      <td>0.10</td>\n",
              "      <td>2</td>\n",
              "      <td>33.16</td>\n",
              "      <td>33.914108</td>\n",
              "      <td>33.912155</td>\n",
              "    </tr>\n",
              "    <tr>\n",
              "      <th>242</th>\n",
              "      <td>0.98</td>\n",
              "      <td>514.5</td>\n",
              "      <td>294.0</td>\n",
              "      <td>110.25</td>\n",
              "      <td>7.0</td>\n",
              "      <td>4</td>\n",
              "      <td>0.10</td>\n",
              "      <td>5</td>\n",
              "      <td>24.03</td>\n",
              "      <td>25.843147</td>\n",
              "      <td>25.843147</td>\n",
              "    </tr>\n",
              "    <tr>\n",
              "      <th>226</th>\n",
              "      <td>0.69</td>\n",
              "      <td>735.0</td>\n",
              "      <td>294.0</td>\n",
              "      <td>220.50</td>\n",
              "      <td>3.5</td>\n",
              "      <td>4</td>\n",
              "      <td>0.10</td>\n",
              "      <td>4</td>\n",
              "      <td>11.07</td>\n",
              "      <td>10.517472</td>\n",
              "      <td>10.517472</td>\n",
              "    </tr>\n",
              "  </tbody>\n",
              "</table>\n",
              "</div>"
            ],
            "text/plain": [
              "     compact  s_area  w_area  r_area  height  orient  g_area  g_area_dist  \\\n",
              "539     0.86   588.0   294.0  147.00     7.0       5    0.40            1   \n",
              "416     0.69   735.0   294.0  220.50     3.5       2    0.25            3   \n",
              "116     0.76   661.5   416.5  122.50     7.0       2    0.10            2   \n",
              "242     0.98   514.5   294.0  110.25     7.0       4    0.10            5   \n",
              "226     0.69   735.0   294.0  220.50     3.5       4    0.10            4   \n",
              "\n",
              "     y_true     y_pred  HeatLoad_pred_eqn  \n",
              "539   31.29  32.089756          32.089756  \n",
              "416   12.34  13.188658          13.188658  \n",
              "116   33.16  33.914108          33.912155  \n",
              "242   24.03  25.843147          25.843147  \n",
              "226   11.07  10.517472          10.517472  "
            ]
          },
          "execution_count": 22,
          "metadata": {},
          "output_type": "execute_result"
        }
      ]
    },
    {
      "cell_type": "code",
      "metadata": {
        "id": "eoRXTf_bBoXT"
      },
      "source": [
        "# df2['SSE'] = (df2['y_orig'] - df2['y_pred'])**2\n",
        "# df2.head()"
      ],
      "execution_count": null,
      "outputs": []
    },
    {
      "cell_type": "code",
      "metadata": {
        "id": "6hX-cunBBoXT"
      },
      "source": [
        "# print(df2.sum())\n",
        "# print('-----------')\n",
        "# print(df2.sum()/192)"
      ],
      "execution_count": null,
      "outputs": []
    },
    {
      "cell_type": "code",
      "metadata": {
        "id": "IwTtRRy4BoXT"
      },
      "source": [
        "from sklearn.metrics import mean_squared_error, mean_absolute_error"
      ],
      "execution_count": null,
      "outputs": []
    },
    {
      "cell_type": "code",
      "metadata": {
        "id": "jWrvJYlaBoXU",
        "outputId": "d034d1da-336b-4c14-bdda-2048b22463e4"
      },
      "source": [
        "mse = mean_squared_error(y_test,y_pred)\n",
        "mae = mean_absolute_error(y_test,y_pred)\n",
        "rmse = mse**0.5\n",
        "print('MSE',mse)\n",
        "print('MAE',mae)\n",
        "print('RMSE',rmse)"
      ],
      "execution_count": null,
      "outputs": [
        {
          "name": "stdout",
          "output_type": "stream",
          "text": [
            "MSE 9.908146240017183\n",
            "MAE 2.2415832086530614\n",
            "RMSE 3.1477208008362467\n"
          ]
        }
      ]
    },
    {
      "cell_type": "code",
      "metadata": {
        "id": "mjaRs6L5BoXU"
      },
      "source": [
        ""
      ],
      "execution_count": null,
      "outputs": []
    },
    {
      "cell_type": "markdown",
      "metadata": {
        "id": "1J5SNKawBoXU"
      },
      "source": [
        "### Prediction of Cooling Load"
      ]
    },
    {
      "cell_type": "code",
      "metadata": {
        "id": "pyuK-2CRBoXU",
        "outputId": "ca430787-7928-4838-90a2-7b9e1d3c3178"
      },
      "source": [
        "x1 = df.iloc[:,:-2] # X1-X8\n",
        "y1 = df.iloc[:,-1] # cooling load\n",
        "print(x1.shape)\n",
        "print(y1.shape)"
      ],
      "execution_count": null,
      "outputs": [
        {
          "name": "stdout",
          "output_type": "stream",
          "text": [
            "(768, 8)\n",
            "(768,)\n"
          ]
        }
      ]
    },
    {
      "cell_type": "code",
      "metadata": {
        "id": "KQ_aARnBBoXU"
      },
      "source": [
        "from sklearn.model_selection import train_test_split\n",
        "x_train,x_test,y_train,y_test = train_test_split(x1,y1,test_size=0.25)"
      ],
      "execution_count": null,
      "outputs": []
    },
    {
      "cell_type": "code",
      "metadata": {
        "id": "KFvEwRltBoXU",
        "outputId": "d59adbc1-21c9-444f-caff-214734ec869d"
      },
      "source": [
        "print(x_train.shape)\n",
        "print(x_test.shape)\n",
        "print(y_train.shape)\n",
        "print(y_test.shape)"
      ],
      "execution_count": null,
      "outputs": [
        {
          "name": "stdout",
          "output_type": "stream",
          "text": [
            "(576, 8)\n",
            "(192, 8)\n",
            "(576,)\n",
            "(192,)\n"
          ]
        }
      ]
    },
    {
      "cell_type": "code",
      "metadata": {
        "id": "GMYviZ58BoXV"
      },
      "source": [
        "from sklearn.linear_model import LinearRegression"
      ],
      "execution_count": null,
      "outputs": []
    },
    {
      "cell_type": "code",
      "metadata": {
        "id": "FqNDG4CGBoXV",
        "outputId": "842deadf-967d-4f5d-9a5c-ed97a2860dc8"
      },
      "source": [
        "reg1 = LinearRegression()\n",
        "reg1.fit(x_train,y_train)"
      ],
      "execution_count": null,
      "outputs": [
        {
          "data": {
            "text/plain": [
              "LinearRegression()"
            ]
          },
          "execution_count": 33,
          "metadata": {},
          "output_type": "execute_result"
        }
      ]
    },
    {
      "cell_type": "code",
      "metadata": {
        "id": "SqRNnnIRBoXV",
        "outputId": "f26613d7-8026-4a02-973c-465c4e5d9de0"
      },
      "source": [
        "reg1.score(x_train,y_train)"
      ],
      "execution_count": null,
      "outputs": [
        {
          "data": {
            "text/plain": [
              "0.8854269821567536"
            ]
          },
          "execution_count": 34,
          "metadata": {},
          "output_type": "execute_result"
        }
      ]
    },
    {
      "cell_type": "code",
      "metadata": {
        "id": "v8hsM8moBoXV",
        "outputId": "df8a910e-26cb-4e40-80a7-09f3589c25e9"
      },
      "source": [
        "reg1.score(x_test,y_test)"
      ],
      "execution_count": null,
      "outputs": [
        {
          "data": {
            "text/plain": [
              "0.890740243398294"
            ]
          },
          "execution_count": 35,
          "metadata": {},
          "output_type": "execute_result"
        }
      ]
    },
    {
      "cell_type": "code",
      "metadata": {
        "id": "BQr8etCfBoXV",
        "outputId": "0d3e7414-933d-44a0-ee74-ec2830882d29"
      },
      "source": [
        "y_pred = reg1.predict(x_test)\n",
        "len(y_test)"
      ],
      "execution_count": null,
      "outputs": [
        {
          "data": {
            "text/plain": [
              "192"
            ]
          },
          "execution_count": 36,
          "metadata": {},
          "output_type": "execute_result"
        }
      ]
    },
    {
      "cell_type": "code",
      "metadata": {
        "id": "2aoAMtZMBoXV",
        "outputId": "495d2873-9958-4e55-a937-7542f7cd0119"
      },
      "source": [
        "print(type(y_pred))\n",
        "y_pred[:5]"
      ],
      "execution_count": null,
      "outputs": [
        {
          "name": "stdout",
          "output_type": "stream",
          "text": [
            "<class 'numpy.ndarray'>\n"
          ]
        },
        {
          "data": {
            "text/plain": [
              "array([33.49000429, 14.71138807, 15.36863765, 15.19389325, 13.36808874])"
            ]
          },
          "execution_count": 37,
          "metadata": {},
          "output_type": "execute_result"
        }
      ]
    },
    {
      "cell_type": "code",
      "metadata": {
        "id": "NCuOmPf7BoXV",
        "outputId": "03635e58-921a-4b74-a923-b7dd32eea06d"
      },
      "source": [
        "reg1.coef_"
      ],
      "execution_count": null,
      "outputs": [
        {
          "data": {
            "text/plain": [
              "array([-6.64071755e+01, -2.03645205e+11,  2.03645205e+11,  4.07290411e+11,\n",
              "        4.38537335e+00,  8.73722024e-02,  1.54268864e+01,  7.61413798e-02])"
            ]
          },
          "execution_count": 38,
          "metadata": {},
          "output_type": "execute_result"
        }
      ]
    },
    {
      "cell_type": "code",
      "metadata": {
        "id": "dA0OMI1hBoXW",
        "outputId": "374b4857-a2ff-4231-c443-5f28c0d9a95a"
      },
      "source": [
        "reg1.intercept_"
      ],
      "execution_count": null,
      "outputs": [
        {
          "data": {
            "text/plain": [
              "89.07110432568801"
            ]
          },
          "execution_count": 39,
          "metadata": {},
          "output_type": "execute_result"
        }
      ]
    },
    {
      "cell_type": "code",
      "metadata": {
        "id": "Z615aXJ6BoXW"
      },
      "source": [
        "# df3 = pd.DataFrame({'y_orig':y_test,'y_pred':y_pred})\n",
        "# df3.head(10)"
      ],
      "execution_count": null,
      "outputs": []
    },
    {
      "cell_type": "code",
      "metadata": {
        "id": "VKHndo19BoXW",
        "outputId": "6255e034-080a-4048-c195-ba8862a90c54"
      },
      "source": [
        "x_test['y_true'] = y_test\n",
        "x_test['y_pred'] = y_pred\n",
        "x_test.head()"
      ],
      "execution_count": null,
      "outputs": [
        {
          "name": "stderr",
          "output_type": "stream",
          "text": [
            "E:\\Users\\lenovo\\Anaconda3\\lib\\site-packages\\ipykernel_launcher.py:1: SettingWithCopyWarning: \n",
            "A value is trying to be set on a copy of a slice from a DataFrame.\n",
            "Try using .loc[row_indexer,col_indexer] = value instead\n",
            "\n",
            "See the caveats in the documentation: https://pandas.pydata.org/pandas-docs/stable/user_guide/indexing.html#returning-a-view-versus-a-copy\n",
            "  \"\"\"Entry point for launching an IPython kernel.\n",
            "E:\\Users\\lenovo\\Anaconda3\\lib\\site-packages\\ipykernel_launcher.py:2: SettingWithCopyWarning: \n",
            "A value is trying to be set on a copy of a slice from a DataFrame.\n",
            "Try using .loc[row_indexer,col_indexer] = value instead\n",
            "\n",
            "See the caveats in the documentation: https://pandas.pydata.org/pandas-docs/stable/user_guide/indexing.html#returning-a-view-versus-a-copy\n",
            "  \n"
          ]
        },
        {
          "data": {
            "text/html": [
              "<div>\n",
              "<style scoped>\n",
              "    .dataframe tbody tr th:only-of-type {\n",
              "        vertical-align: middle;\n",
              "    }\n",
              "\n",
              "    .dataframe tbody tr th {\n",
              "        vertical-align: top;\n",
              "    }\n",
              "\n",
              "    .dataframe thead th {\n",
              "        text-align: right;\n",
              "    }\n",
              "</style>\n",
              "<table border=\"1\" class=\"dataframe\">\n",
              "  <thead>\n",
              "    <tr style=\"text-align: right;\">\n",
              "      <th></th>\n",
              "      <th>compact</th>\n",
              "      <th>s_area</th>\n",
              "      <th>w_area</th>\n",
              "      <th>r_area</th>\n",
              "      <th>height</th>\n",
              "      <th>orient</th>\n",
              "      <th>g_area</th>\n",
              "      <th>g_area_dist</th>\n",
              "      <th>y_true</th>\n",
              "      <th>y_pred</th>\n",
              "    </tr>\n",
              "  </thead>\n",
              "  <tbody>\n",
              "    <tr>\n",
              "      <th>303</th>\n",
              "      <td>0.82</td>\n",
              "      <td>612.5</td>\n",
              "      <td>318.5</td>\n",
              "      <td>147.0</td>\n",
              "      <td>7.0</td>\n",
              "      <td>5</td>\n",
              "      <td>0.25</td>\n",
              "      <td>1</td>\n",
              "      <td>31.39</td>\n",
              "      <td>33.490004</td>\n",
              "    </tr>\n",
              "    <tr>\n",
              "      <th>507</th>\n",
              "      <td>0.74</td>\n",
              "      <td>686.0</td>\n",
              "      <td>245.0</td>\n",
              "      <td>220.5</td>\n",
              "      <td>3.5</td>\n",
              "      <td>5</td>\n",
              "      <td>0.25</td>\n",
              "      <td>5</td>\n",
              "      <td>14.03</td>\n",
              "      <td>14.711388</td>\n",
              "    </tr>\n",
              "    <tr>\n",
              "      <th>190</th>\n",
              "      <td>0.62</td>\n",
              "      <td>808.5</td>\n",
              "      <td>367.5</td>\n",
              "      <td>220.5</td>\n",
              "      <td>3.5</td>\n",
              "      <td>4</td>\n",
              "      <td>0.10</td>\n",
              "      <td>3</td>\n",
              "      <td>14.14</td>\n",
              "      <td>15.368638</td>\n",
              "    </tr>\n",
              "    <tr>\n",
              "      <th>188</th>\n",
              "      <td>0.62</td>\n",
              "      <td>808.5</td>\n",
              "      <td>367.5</td>\n",
              "      <td>220.5</td>\n",
              "      <td>3.5</td>\n",
              "      <td>2</td>\n",
              "      <td>0.10</td>\n",
              "      <td>3</td>\n",
              "      <td>14.09</td>\n",
              "      <td>15.193893</td>\n",
              "    </tr>\n",
              "    <tr>\n",
              "      <th>223</th>\n",
              "      <td>0.71</td>\n",
              "      <td>710.5</td>\n",
              "      <td>269.5</td>\n",
              "      <td>220.5</td>\n",
              "      <td>3.5</td>\n",
              "      <td>5</td>\n",
              "      <td>0.10</td>\n",
              "      <td>4</td>\n",
              "      <td>14.20</td>\n",
              "      <td>13.368089</td>\n",
              "    </tr>\n",
              "  </tbody>\n",
              "</table>\n",
              "</div>"
            ],
            "text/plain": [
              "     compact  s_area  w_area  r_area  height  orient  g_area  g_area_dist  \\\n",
              "303     0.82   612.5   318.5   147.0     7.0       5    0.25            1   \n",
              "507     0.74   686.0   245.0   220.5     3.5       5    0.25            5   \n",
              "190     0.62   808.5   367.5   220.5     3.5       4    0.10            3   \n",
              "188     0.62   808.5   367.5   220.5     3.5       2    0.10            3   \n",
              "223     0.71   710.5   269.5   220.5     3.5       5    0.10            4   \n",
              "\n",
              "     y_true     y_pred  \n",
              "303   31.39  33.490004  \n",
              "507   14.03  14.711388  \n",
              "190   14.14  15.368638  \n",
              "188   14.09  15.193893  \n",
              "223   14.20  13.368089  "
            ]
          },
          "execution_count": 41,
          "metadata": {},
          "output_type": "execute_result"
        }
      ]
    },
    {
      "cell_type": "code",
      "metadata": {
        "id": "xbmSMJ0RBoXW",
        "outputId": "a409aae5-2f09-42fc-910f-dd876f783e8a"
      },
      "source": [
        "### Eqn \n",
        "x_test['CoolLoad_pred_eqn'] = x_test['compact']*reg1.coef_[0] + \\\n",
        "                x_test['s_area']*reg1.coef_[1] + \\\n",
        "                x_test['w_area']*reg1.coef_[2] + x_test['r_area']*reg1.coef_[3] + \\\n",
        "                x_test['height']*reg1.coef_[4] + x_test['orient']*reg1.coef_[5] + \\\n",
        "                x_test['g_area']*reg1.coef_[6] + x_test['g_area_dist']*reg1.coef_[7] +\\\n",
        "                reg1.intercept_\n",
        "x_test.head()"
      ],
      "execution_count": null,
      "outputs": [
        {
          "name": "stderr",
          "output_type": "stream",
          "text": [
            "E:\\Users\\lenovo\\Anaconda3\\lib\\site-packages\\ipykernel_launcher.py:7: SettingWithCopyWarning: \n",
            "A value is trying to be set on a copy of a slice from a DataFrame.\n",
            "Try using .loc[row_indexer,col_indexer] = value instead\n",
            "\n",
            "See the caveats in the documentation: https://pandas.pydata.org/pandas-docs/stable/user_guide/indexing.html#returning-a-view-versus-a-copy\n",
            "  import sys\n"
          ]
        },
        {
          "data": {
            "text/html": [
              "<div>\n",
              "<style scoped>\n",
              "    .dataframe tbody tr th:only-of-type {\n",
              "        vertical-align: middle;\n",
              "    }\n",
              "\n",
              "    .dataframe tbody tr th {\n",
              "        vertical-align: top;\n",
              "    }\n",
              "\n",
              "    .dataframe thead th {\n",
              "        text-align: right;\n",
              "    }\n",
              "</style>\n",
              "<table border=\"1\" class=\"dataframe\">\n",
              "  <thead>\n",
              "    <tr style=\"text-align: right;\">\n",
              "      <th></th>\n",
              "      <th>compact</th>\n",
              "      <th>s_area</th>\n",
              "      <th>w_area</th>\n",
              "      <th>r_area</th>\n",
              "      <th>height</th>\n",
              "      <th>orient</th>\n",
              "      <th>g_area</th>\n",
              "      <th>g_area_dist</th>\n",
              "      <th>y_true</th>\n",
              "      <th>y_pred</th>\n",
              "      <th>CoolLoad_pred_eqn</th>\n",
              "    </tr>\n",
              "  </thead>\n",
              "  <tbody>\n",
              "    <tr>\n",
              "      <th>303</th>\n",
              "      <td>0.82</td>\n",
              "      <td>612.5</td>\n",
              "      <td>318.5</td>\n",
              "      <td>147.0</td>\n",
              "      <td>7.0</td>\n",
              "      <td>5</td>\n",
              "      <td>0.25</td>\n",
              "      <td>1</td>\n",
              "      <td>31.39</td>\n",
              "      <td>33.490004</td>\n",
              "      <td>33.497817</td>\n",
              "    </tr>\n",
              "    <tr>\n",
              "      <th>507</th>\n",
              "      <td>0.74</td>\n",
              "      <td>686.0</td>\n",
              "      <td>245.0</td>\n",
              "      <td>220.5</td>\n",
              "      <td>3.5</td>\n",
              "      <td>5</td>\n",
              "      <td>0.25</td>\n",
              "      <td>5</td>\n",
              "      <td>14.03</td>\n",
              "      <td>14.711388</td>\n",
              "      <td>14.719201</td>\n",
              "    </tr>\n",
              "    <tr>\n",
              "      <th>190</th>\n",
              "      <td>0.62</td>\n",
              "      <td>808.5</td>\n",
              "      <td>367.5</td>\n",
              "      <td>220.5</td>\n",
              "      <td>3.5</td>\n",
              "      <td>4</td>\n",
              "      <td>0.10</td>\n",
              "      <td>3</td>\n",
              "      <td>14.14</td>\n",
              "      <td>15.368638</td>\n",
              "      <td>15.353013</td>\n",
              "    </tr>\n",
              "    <tr>\n",
              "      <th>188</th>\n",
              "      <td>0.62</td>\n",
              "      <td>808.5</td>\n",
              "      <td>367.5</td>\n",
              "      <td>220.5</td>\n",
              "      <td>3.5</td>\n",
              "      <td>2</td>\n",
              "      <td>0.10</td>\n",
              "      <td>3</td>\n",
              "      <td>14.09</td>\n",
              "      <td>15.193893</td>\n",
              "      <td>15.178268</td>\n",
              "    </tr>\n",
              "    <tr>\n",
              "      <th>223</th>\n",
              "      <td>0.71</td>\n",
              "      <td>710.5</td>\n",
              "      <td>269.5</td>\n",
              "      <td>220.5</td>\n",
              "      <td>3.5</td>\n",
              "      <td>5</td>\n",
              "      <td>0.10</td>\n",
              "      <td>4</td>\n",
              "      <td>14.20</td>\n",
              "      <td>13.368089</td>\n",
              "      <td>13.375901</td>\n",
              "    </tr>\n",
              "  </tbody>\n",
              "</table>\n",
              "</div>"
            ],
            "text/plain": [
              "     compact  s_area  w_area  r_area  height  orient  g_area  g_area_dist  \\\n",
              "303     0.82   612.5   318.5   147.0     7.0       5    0.25            1   \n",
              "507     0.74   686.0   245.0   220.5     3.5       5    0.25            5   \n",
              "190     0.62   808.5   367.5   220.5     3.5       4    0.10            3   \n",
              "188     0.62   808.5   367.5   220.5     3.5       2    0.10            3   \n",
              "223     0.71   710.5   269.5   220.5     3.5       5    0.10            4   \n",
              "\n",
              "     y_true     y_pred  CoolLoad_pred_eqn  \n",
              "303   31.39  33.490004          33.497817  \n",
              "507   14.03  14.711388          14.719201  \n",
              "190   14.14  15.368638          15.353013  \n",
              "188   14.09  15.193893          15.178268  \n",
              "223   14.20  13.368089          13.375901  "
            ]
          },
          "execution_count": 43,
          "metadata": {},
          "output_type": "execute_result"
        }
      ]
    },
    {
      "cell_type": "code",
      "metadata": {
        "id": "jLK_OYL8BoXW"
      },
      "source": [
        "# df3['SSE'] = (df3['y_orig'] - df3['y_pred'])**2\n",
        "# df3.head()"
      ],
      "execution_count": null,
      "outputs": []
    },
    {
      "cell_type": "code",
      "metadata": {
        "id": "P8tSejlqBoXW"
      },
      "source": [
        "# df3.sum()"
      ],
      "execution_count": null,
      "outputs": []
    },
    {
      "cell_type": "code",
      "metadata": {
        "id": "YrBXh3JLBoXW",
        "outputId": "38d49c44-eaa6-4479-b368-964bc66009ba"
      },
      "source": [
        "mse = mean_squared_error(y_test,y_pred)\n",
        "mae = mean_absolute_error(y_test,y_pred)\n",
        "rmse = mse**0.5\n",
        "print('MSE',mse)\n",
        "print('MAE',mae)\n",
        "print('RMSE',rmse)"
      ],
      "execution_count": null,
      "outputs": [
        {
          "name": "stdout",
          "output_type": "stream",
          "text": [
            "MSE 9.740073221134088\n",
            "MAE 2.175515486655336\n",
            "RMSE 3.1209090376257502\n"
          ]
        }
      ]
    },
    {
      "cell_type": "markdown",
      "metadata": {
        "id": "KmPasdbyBoXY"
      },
      "source": [
        "### Feature Selection based on Correlation"
      ]
    },
    {
      "cell_type": "markdown",
      "metadata": {
        "id": "V-qKOtORBoXY"
      },
      "source": [
        "#### Predicting heating load"
      ]
    },
    {
      "cell_type": "code",
      "metadata": {
        "id": "Kn7V3f-oBoXY",
        "outputId": "933d9067-a133-4244-85dd-ddfd41d509a5"
      },
      "source": [
        "df.corr()"
      ],
      "execution_count": null,
      "outputs": [
        {
          "data": {
            "text/html": [
              "<div>\n",
              "<style scoped>\n",
              "    .dataframe tbody tr th:only-of-type {\n",
              "        vertical-align: middle;\n",
              "    }\n",
              "\n",
              "    .dataframe tbody tr th {\n",
              "        vertical-align: top;\n",
              "    }\n",
              "\n",
              "    .dataframe thead th {\n",
              "        text-align: right;\n",
              "    }\n",
              "</style>\n",
              "<table border=\"1\" class=\"dataframe\">\n",
              "  <thead>\n",
              "    <tr style=\"text-align: right;\">\n",
              "      <th></th>\n",
              "      <th>compact</th>\n",
              "      <th>s_area</th>\n",
              "      <th>w_area</th>\n",
              "      <th>r_area</th>\n",
              "      <th>height</th>\n",
              "      <th>orient</th>\n",
              "      <th>g_area</th>\n",
              "      <th>g_area_dist</th>\n",
              "      <th>heat_load</th>\n",
              "      <th>cool_load</th>\n",
              "    </tr>\n",
              "  </thead>\n",
              "  <tbody>\n",
              "    <tr>\n",
              "      <th>compact</th>\n",
              "      <td>1.000000e+00</td>\n",
              "      <td>-9.919015e-01</td>\n",
              "      <td>-2.037817e-01</td>\n",
              "      <td>-8.688234e-01</td>\n",
              "      <td>8.277473e-01</td>\n",
              "      <td>0.000000</td>\n",
              "      <td>1.283986e-17</td>\n",
              "      <td>1.764620e-17</td>\n",
              "      <td>0.622272</td>\n",
              "      <td>0.634339</td>\n",
              "    </tr>\n",
              "    <tr>\n",
              "      <th>s_area</th>\n",
              "      <td>-9.919015e-01</td>\n",
              "      <td>1.000000e+00</td>\n",
              "      <td>1.955016e-01</td>\n",
              "      <td>8.807195e-01</td>\n",
              "      <td>-8.581477e-01</td>\n",
              "      <td>0.000000</td>\n",
              "      <td>1.318356e-16</td>\n",
              "      <td>-3.558613e-16</td>\n",
              "      <td>-0.658120</td>\n",
              "      <td>-0.672999</td>\n",
              "    </tr>\n",
              "    <tr>\n",
              "      <th>w_area</th>\n",
              "      <td>-2.037817e-01</td>\n",
              "      <td>1.955016e-01</td>\n",
              "      <td>1.000000e+00</td>\n",
              "      <td>-2.923165e-01</td>\n",
              "      <td>2.809757e-01</td>\n",
              "      <td>0.000000</td>\n",
              "      <td>-7.969726e-19</td>\n",
              "      <td>0.000000e+00</td>\n",
              "      <td>0.455671</td>\n",
              "      <td>0.427117</td>\n",
              "    </tr>\n",
              "    <tr>\n",
              "      <th>r_area</th>\n",
              "      <td>-8.688234e-01</td>\n",
              "      <td>8.807195e-01</td>\n",
              "      <td>-2.923165e-01</td>\n",
              "      <td>1.000000e+00</td>\n",
              "      <td>-9.725122e-01</td>\n",
              "      <td>0.000000</td>\n",
              "      <td>-1.381805e-16</td>\n",
              "      <td>-1.079129e-16</td>\n",
              "      <td>-0.861828</td>\n",
              "      <td>-0.862547</td>\n",
              "    </tr>\n",
              "    <tr>\n",
              "      <th>height</th>\n",
              "      <td>8.277473e-01</td>\n",
              "      <td>-8.581477e-01</td>\n",
              "      <td>2.809757e-01</td>\n",
              "      <td>-9.725122e-01</td>\n",
              "      <td>1.000000e+00</td>\n",
              "      <td>0.000000</td>\n",
              "      <td>1.861418e-18</td>\n",
              "      <td>0.000000e+00</td>\n",
              "      <td>0.889430</td>\n",
              "      <td>0.895785</td>\n",
              "    </tr>\n",
              "    <tr>\n",
              "      <th>orient</th>\n",
              "      <td>0.000000e+00</td>\n",
              "      <td>0.000000e+00</td>\n",
              "      <td>0.000000e+00</td>\n",
              "      <td>0.000000e+00</td>\n",
              "      <td>0.000000e+00</td>\n",
              "      <td>1.000000</td>\n",
              "      <td>0.000000e+00</td>\n",
              "      <td>0.000000e+00</td>\n",
              "      <td>-0.002587</td>\n",
              "      <td>0.014290</td>\n",
              "    </tr>\n",
              "    <tr>\n",
              "      <th>g_area</th>\n",
              "      <td>1.283986e-17</td>\n",
              "      <td>1.318356e-16</td>\n",
              "      <td>-7.969726e-19</td>\n",
              "      <td>-1.381805e-16</td>\n",
              "      <td>1.861418e-18</td>\n",
              "      <td>0.000000</td>\n",
              "      <td>1.000000e+00</td>\n",
              "      <td>2.129642e-01</td>\n",
              "      <td>0.269842</td>\n",
              "      <td>0.207505</td>\n",
              "    </tr>\n",
              "    <tr>\n",
              "      <th>g_area_dist</th>\n",
              "      <td>1.764620e-17</td>\n",
              "      <td>-3.558613e-16</td>\n",
              "      <td>0.000000e+00</td>\n",
              "      <td>-1.079129e-16</td>\n",
              "      <td>0.000000e+00</td>\n",
              "      <td>0.000000</td>\n",
              "      <td>2.129642e-01</td>\n",
              "      <td>1.000000e+00</td>\n",
              "      <td>0.087368</td>\n",
              "      <td>0.050525</td>\n",
              "    </tr>\n",
              "    <tr>\n",
              "      <th>heat_load</th>\n",
              "      <td>6.222719e-01</td>\n",
              "      <td>-6.581199e-01</td>\n",
              "      <td>4.556714e-01</td>\n",
              "      <td>-8.618281e-01</td>\n",
              "      <td>8.894305e-01</td>\n",
              "      <td>-0.002587</td>\n",
              "      <td>2.698417e-01</td>\n",
              "      <td>8.736846e-02</td>\n",
              "      <td>1.000000</td>\n",
              "      <td>0.975862</td>\n",
              "    </tr>\n",
              "    <tr>\n",
              "      <th>cool_load</th>\n",
              "      <td>6.343391e-01</td>\n",
              "      <td>-6.729989e-01</td>\n",
              "      <td>4.271170e-01</td>\n",
              "      <td>-8.625466e-01</td>\n",
              "      <td>8.957852e-01</td>\n",
              "      <td>0.014290</td>\n",
              "      <td>2.075050e-01</td>\n",
              "      <td>5.052512e-02</td>\n",
              "      <td>0.975862</td>\n",
              "      <td>1.000000</td>\n",
              "    </tr>\n",
              "  </tbody>\n",
              "</table>\n",
              "</div>"
            ],
            "text/plain": [
              "                  compact        s_area        w_area        r_area  \\\n",
              "compact      1.000000e+00 -9.919015e-01 -2.037817e-01 -8.688234e-01   \n",
              "s_area      -9.919015e-01  1.000000e+00  1.955016e-01  8.807195e-01   \n",
              "w_area      -2.037817e-01  1.955016e-01  1.000000e+00 -2.923165e-01   \n",
              "r_area      -8.688234e-01  8.807195e-01 -2.923165e-01  1.000000e+00   \n",
              "height       8.277473e-01 -8.581477e-01  2.809757e-01 -9.725122e-01   \n",
              "orient       0.000000e+00  0.000000e+00  0.000000e+00  0.000000e+00   \n",
              "g_area       1.283986e-17  1.318356e-16 -7.969726e-19 -1.381805e-16   \n",
              "g_area_dist  1.764620e-17 -3.558613e-16  0.000000e+00 -1.079129e-16   \n",
              "heat_load    6.222719e-01 -6.581199e-01  4.556714e-01 -8.618281e-01   \n",
              "cool_load    6.343391e-01 -6.729989e-01  4.271170e-01 -8.625466e-01   \n",
              "\n",
              "                   height    orient        g_area   g_area_dist  heat_load  \\\n",
              "compact      8.277473e-01  0.000000  1.283986e-17  1.764620e-17   0.622272   \n",
              "s_area      -8.581477e-01  0.000000  1.318356e-16 -3.558613e-16  -0.658120   \n",
              "w_area       2.809757e-01  0.000000 -7.969726e-19  0.000000e+00   0.455671   \n",
              "r_area      -9.725122e-01  0.000000 -1.381805e-16 -1.079129e-16  -0.861828   \n",
              "height       1.000000e+00  0.000000  1.861418e-18  0.000000e+00   0.889430   \n",
              "orient       0.000000e+00  1.000000  0.000000e+00  0.000000e+00  -0.002587   \n",
              "g_area       1.861418e-18  0.000000  1.000000e+00  2.129642e-01   0.269842   \n",
              "g_area_dist  0.000000e+00  0.000000  2.129642e-01  1.000000e+00   0.087368   \n",
              "heat_load    8.894305e-01 -0.002587  2.698417e-01  8.736846e-02   1.000000   \n",
              "cool_load    8.957852e-01  0.014290  2.075050e-01  5.052512e-02   0.975862   \n",
              "\n",
              "             cool_load  \n",
              "compact       0.634339  \n",
              "s_area       -0.672999  \n",
              "w_area        0.427117  \n",
              "r_area       -0.862547  \n",
              "height        0.895785  \n",
              "orient        0.014290  \n",
              "g_area        0.207505  \n",
              "g_area_dist   0.050525  \n",
              "heat_load     0.975862  \n",
              "cool_load     1.000000  "
            ]
          },
          "execution_count": 47,
          "metadata": {},
          "output_type": "execute_result"
        }
      ]
    },
    {
      "cell_type": "code",
      "metadata": {
        "id": "UFwXv-__BoXY",
        "outputId": "57d09728-b8fa-4255-a1dd-0f7722fcd3e9"
      },
      "source": [
        "x1 = df.iloc[:,[0,2,4,6,7]]\n",
        "y1 = df.iloc[:,-2]\n",
        "print(x1.shape)\n",
        "print(y1.shape)"
      ],
      "execution_count": null,
      "outputs": [
        {
          "name": "stdout",
          "output_type": "stream",
          "text": [
            "(768, 5)\n",
            "(768,)\n"
          ]
        }
      ]
    },
    {
      "cell_type": "code",
      "metadata": {
        "id": "QiFmh5ZKBoXY",
        "outputId": "8f62cff7-4d39-4aeb-dcf8-ce9902735bc7"
      },
      "source": [
        "x1.head(2)"
      ],
      "execution_count": null,
      "outputs": [
        {
          "data": {
            "text/html": [
              "<div>\n",
              "<style scoped>\n",
              "    .dataframe tbody tr th:only-of-type {\n",
              "        vertical-align: middle;\n",
              "    }\n",
              "\n",
              "    .dataframe tbody tr th {\n",
              "        vertical-align: top;\n",
              "    }\n",
              "\n",
              "    .dataframe thead th {\n",
              "        text-align: right;\n",
              "    }\n",
              "</style>\n",
              "<table border=\"1\" class=\"dataframe\">\n",
              "  <thead>\n",
              "    <tr style=\"text-align: right;\">\n",
              "      <th></th>\n",
              "      <th>compact</th>\n",
              "      <th>w_area</th>\n",
              "      <th>height</th>\n",
              "      <th>g_area</th>\n",
              "      <th>g_area_dist</th>\n",
              "    </tr>\n",
              "  </thead>\n",
              "  <tbody>\n",
              "    <tr>\n",
              "      <th>0</th>\n",
              "      <td>0.98</td>\n",
              "      <td>294.0</td>\n",
              "      <td>7.0</td>\n",
              "      <td>0.0</td>\n",
              "      <td>0</td>\n",
              "    </tr>\n",
              "    <tr>\n",
              "      <th>1</th>\n",
              "      <td>0.98</td>\n",
              "      <td>294.0</td>\n",
              "      <td>7.0</td>\n",
              "      <td>0.0</td>\n",
              "      <td>0</td>\n",
              "    </tr>\n",
              "  </tbody>\n",
              "</table>\n",
              "</div>"
            ],
            "text/plain": [
              "   compact  w_area  height  g_area  g_area_dist\n",
              "0     0.98   294.0     7.0     0.0            0\n",
              "1     0.98   294.0     7.0     0.0            0"
            ]
          },
          "execution_count": 59,
          "metadata": {},
          "output_type": "execute_result"
        }
      ]
    },
    {
      "cell_type": "code",
      "metadata": {
        "id": "4Rcy78kdBoXZ",
        "outputId": "6b797778-8dbb-4366-8e0f-1bd0c0c4de0a"
      },
      "source": [
        "from sklearn.model_selection import train_test_split\n",
        "x_train,x_test,y_train,y_test = train_test_split(x1,y1,test_size=0.25)\n",
        "print(x_train.shape)\n",
        "print(x_test.shape)\n",
        "print(y_train.shape)\n",
        "print(y_test.shape)"
      ],
      "execution_count": null,
      "outputs": [
        {
          "name": "stdout",
          "output_type": "stream",
          "text": [
            "(576, 5)\n",
            "(192, 5)\n",
            "(576,)\n",
            "(192,)\n"
          ]
        }
      ]
    },
    {
      "cell_type": "code",
      "metadata": {
        "id": "k73fkcAfBoXZ",
        "outputId": "e8716545-660e-4bb0-c431-999eba52a6d3"
      },
      "source": [
        "reg_heat = LinearRegression()\n",
        "reg_heat.fit(x_train,y_train)"
      ],
      "execution_count": null,
      "outputs": [
        {
          "data": {
            "text/plain": [
              "LinearRegression()"
            ]
          },
          "execution_count": 61,
          "metadata": {},
          "output_type": "execute_result"
        }
      ]
    },
    {
      "cell_type": "code",
      "metadata": {
        "id": "SY-x3AgnBoXZ",
        "outputId": "8ad97c88-b1c1-4867-83de-60e0282b209d"
      },
      "source": [
        "print(reg_heat.score(x_train,y_train))\n",
        "print(reg_heat.score(x_test,y_test))"
      ],
      "execution_count": null,
      "outputs": [
        {
          "name": "stdout",
          "output_type": "stream",
          "text": [
            "0.9164778316348885\n",
            "0.9025093296656446\n"
          ]
        }
      ]
    },
    {
      "cell_type": "code",
      "metadata": {
        "id": "bDcpc9eHBoXZ"
      },
      "source": [
        "y_pred_heat = reg_heat.predict(x_test)\n",
        "# y_pred_heat"
      ],
      "execution_count": null,
      "outputs": []
    },
    {
      "cell_type": "code",
      "metadata": {
        "id": "uX9dG3ixBoXZ",
        "outputId": "477d8048-aac6-490b-9b87-8ffb838ed3e7"
      },
      "source": [
        "# print(reg_heat.coef_)\n",
        "a = reg_heat.coef_\n",
        "print(a)\n",
        "print(reg_heat.intercept_)"
      ],
      "execution_count": null,
      "outputs": [
        {
          "name": "stdout",
          "output_type": "stream",
          "text": [
            "[-13.19425864   0.03530392   5.54453579  19.11495515   0.18754119]\n",
            "-12.917454151730887\n"
          ]
        }
      ]
    },
    {
      "cell_type": "code",
      "metadata": {
        "id": "MkCjZti3BoXZ",
        "outputId": "2c5585bc-b8a0-4a21-8fb6-43ccd05d59c9"
      },
      "source": [
        "x_test['y_test'] = y_test\n",
        "x_test['y_pred'] = y_pred_heat\n",
        "x_test.head()"
      ],
      "execution_count": null,
      "outputs": [
        {
          "name": "stderr",
          "output_type": "stream",
          "text": [
            "E:\\Users\\lenovo\\Anaconda3\\lib\\site-packages\\ipykernel_launcher.py:1: SettingWithCopyWarning: \n",
            "A value is trying to be set on a copy of a slice from a DataFrame.\n",
            "Try using .loc[row_indexer,col_indexer] = value instead\n",
            "\n",
            "See the caveats in the documentation: https://pandas.pydata.org/pandas-docs/stable/user_guide/indexing.html#returning-a-view-versus-a-copy\n",
            "  \"\"\"Entry point for launching an IPython kernel.\n",
            "E:\\Users\\lenovo\\Anaconda3\\lib\\site-packages\\ipykernel_launcher.py:2: SettingWithCopyWarning: \n",
            "A value is trying to be set on a copy of a slice from a DataFrame.\n",
            "Try using .loc[row_indexer,col_indexer] = value instead\n",
            "\n",
            "See the caveats in the documentation: https://pandas.pydata.org/pandas-docs/stable/user_guide/indexing.html#returning-a-view-versus-a-copy\n",
            "  \n"
          ]
        },
        {
          "data": {
            "text/html": [
              "<div>\n",
              "<style scoped>\n",
              "    .dataframe tbody tr th:only-of-type {\n",
              "        vertical-align: middle;\n",
              "    }\n",
              "\n",
              "    .dataframe tbody tr th {\n",
              "        vertical-align: top;\n",
              "    }\n",
              "\n",
              "    .dataframe thead th {\n",
              "        text-align: right;\n",
              "    }\n",
              "</style>\n",
              "<table border=\"1\" class=\"dataframe\">\n",
              "  <thead>\n",
              "    <tr style=\"text-align: right;\">\n",
              "      <th></th>\n",
              "      <th>compact</th>\n",
              "      <th>w_area</th>\n",
              "      <th>height</th>\n",
              "      <th>g_area</th>\n",
              "      <th>g_area_dist</th>\n",
              "      <th>y_test</th>\n",
              "      <th>y_pred</th>\n",
              "    </tr>\n",
              "  </thead>\n",
              "  <tbody>\n",
              "    <tr>\n",
              "      <th>516</th>\n",
              "      <td>0.66</td>\n",
              "      <td>318.5</td>\n",
              "      <td>3.5</td>\n",
              "      <td>0.25</td>\n",
              "      <td>5</td>\n",
              "      <td>12.93</td>\n",
              "      <td>14.740955</td>\n",
              "    </tr>\n",
              "    <tr>\n",
              "      <th>427</th>\n",
              "      <td>0.64</td>\n",
              "      <td>343.0</td>\n",
              "      <td>3.5</td>\n",
              "      <td>0.25</td>\n",
              "      <td>3</td>\n",
              "      <td>16.86</td>\n",
              "      <td>15.494704</td>\n",
              "    </tr>\n",
              "    <tr>\n",
              "      <th>429</th>\n",
              "      <td>0.62</td>\n",
              "      <td>367.5</td>\n",
              "      <td>3.5</td>\n",
              "      <td>0.25</td>\n",
              "      <td>3</td>\n",
              "      <td>14.34</td>\n",
              "      <td>16.623535</td>\n",
              "    </tr>\n",
              "    <tr>\n",
              "      <th>104</th>\n",
              "      <td>0.86</td>\n",
              "      <td>294.0</td>\n",
              "      <td>7.0</td>\n",
              "      <td>0.10</td>\n",
              "      <td>2</td>\n",
              "      <td>26.48</td>\n",
              "      <td>27.213165</td>\n",
              "    </tr>\n",
              "    <tr>\n",
              "      <th>736</th>\n",
              "      <td>0.79</td>\n",
              "      <td>343.0</td>\n",
              "      <td>7.0</td>\n",
              "      <td>0.40</td>\n",
              "      <td>5</td>\n",
              "      <td>42.11</td>\n",
              "      <td>36.163766</td>\n",
              "    </tr>\n",
              "  </tbody>\n",
              "</table>\n",
              "</div>"
            ],
            "text/plain": [
              "     compact  w_area  height  g_area  g_area_dist  y_test     y_pred\n",
              "516     0.66   318.5     3.5    0.25            5   12.93  14.740955\n",
              "427     0.64   343.0     3.5    0.25            3   16.86  15.494704\n",
              "429     0.62   367.5     3.5    0.25            3   14.34  16.623535\n",
              "104     0.86   294.0     7.0    0.10            2   26.48  27.213165\n",
              "736     0.79   343.0     7.0    0.40            5   42.11  36.163766"
            ]
          },
          "execution_count": 66,
          "metadata": {},
          "output_type": "execute_result"
        }
      ]
    },
    {
      "cell_type": "code",
      "metadata": {
        "id": "hKBd_qMhBoXZ",
        "outputId": "14b7c12a-2076-4635-e527-3ea3867ba44d"
      },
      "source": [
        "print(a) # reg_heat.coef_"
      ],
      "execution_count": null,
      "outputs": [
        {
          "name": "stdout",
          "output_type": "stream",
          "text": [
            "[-13.19425864   0.03530392   5.54453579  19.11495515   0.18754119]\n"
          ]
        }
      ]
    },
    {
      "cell_type": "code",
      "metadata": {
        "id": "5BO2JIrZBoXZ",
        "outputId": "2a8e16e4-6c01-41f4-ebc9-70ea41f6f8e0"
      },
      "source": [
        "### Eqn \n",
        "x_test['HeatLoad_pred_eqn'] = x_test['compact']*a[0] + \\\n",
        "                x_test['w_area']*a[1] + x_test['height']*a[2] + \\\n",
        "                x_test['g_area']*a[3] + x_test['g_area_dist']*a[4] +\\\n",
        "                reg_heat.intercept_\n",
        "x_test.head()"
      ],
      "execution_count": null,
      "outputs": [
        {
          "name": "stderr",
          "output_type": "stream",
          "text": [
            "E:\\Users\\lenovo\\Anaconda3\\lib\\site-packages\\ipykernel_launcher.py:5: SettingWithCopyWarning: \n",
            "A value is trying to be set on a copy of a slice from a DataFrame.\n",
            "Try using .loc[row_indexer,col_indexer] = value instead\n",
            "\n",
            "See the caveats in the documentation: https://pandas.pydata.org/pandas-docs/stable/user_guide/indexing.html#returning-a-view-versus-a-copy\n",
            "  \"\"\"\n"
          ]
        },
        {
          "data": {
            "text/html": [
              "<div>\n",
              "<style scoped>\n",
              "    .dataframe tbody tr th:only-of-type {\n",
              "        vertical-align: middle;\n",
              "    }\n",
              "\n",
              "    .dataframe tbody tr th {\n",
              "        vertical-align: top;\n",
              "    }\n",
              "\n",
              "    .dataframe thead th {\n",
              "        text-align: right;\n",
              "    }\n",
              "</style>\n",
              "<table border=\"1\" class=\"dataframe\">\n",
              "  <thead>\n",
              "    <tr style=\"text-align: right;\">\n",
              "      <th></th>\n",
              "      <th>compact</th>\n",
              "      <th>w_area</th>\n",
              "      <th>height</th>\n",
              "      <th>g_area</th>\n",
              "      <th>g_area_dist</th>\n",
              "      <th>y_test</th>\n",
              "      <th>y_pred</th>\n",
              "      <th>HeatLoad_pred_eqn</th>\n",
              "    </tr>\n",
              "  </thead>\n",
              "  <tbody>\n",
              "    <tr>\n",
              "      <th>516</th>\n",
              "      <td>0.66</td>\n",
              "      <td>318.5</td>\n",
              "      <td>3.5</td>\n",
              "      <td>0.25</td>\n",
              "      <td>5</td>\n",
              "      <td>12.93</td>\n",
              "      <td>14.740955</td>\n",
              "      <td>14.740955</td>\n",
              "    </tr>\n",
              "    <tr>\n",
              "      <th>427</th>\n",
              "      <td>0.64</td>\n",
              "      <td>343.0</td>\n",
              "      <td>3.5</td>\n",
              "      <td>0.25</td>\n",
              "      <td>3</td>\n",
              "      <td>16.86</td>\n",
              "      <td>15.494704</td>\n",
              "      <td>15.494704</td>\n",
              "    </tr>\n",
              "    <tr>\n",
              "      <th>429</th>\n",
              "      <td>0.62</td>\n",
              "      <td>367.5</td>\n",
              "      <td>3.5</td>\n",
              "      <td>0.25</td>\n",
              "      <td>3</td>\n",
              "      <td>14.34</td>\n",
              "      <td>16.623535</td>\n",
              "      <td>16.623535</td>\n",
              "    </tr>\n",
              "    <tr>\n",
              "      <th>104</th>\n",
              "      <td>0.86</td>\n",
              "      <td>294.0</td>\n",
              "      <td>7.0</td>\n",
              "      <td>0.10</td>\n",
              "      <td>2</td>\n",
              "      <td>26.48</td>\n",
              "      <td>27.213165</td>\n",
              "      <td>27.213165</td>\n",
              "    </tr>\n",
              "    <tr>\n",
              "      <th>736</th>\n",
              "      <td>0.79</td>\n",
              "      <td>343.0</td>\n",
              "      <td>7.0</td>\n",
              "      <td>0.40</td>\n",
              "      <td>5</td>\n",
              "      <td>42.11</td>\n",
              "      <td>36.163766</td>\n",
              "      <td>36.163766</td>\n",
              "    </tr>\n",
              "  </tbody>\n",
              "</table>\n",
              "</div>"
            ],
            "text/plain": [
              "     compact  w_area  height  g_area  g_area_dist  y_test     y_pred  \\\n",
              "516     0.66   318.5     3.5    0.25            5   12.93  14.740955   \n",
              "427     0.64   343.0     3.5    0.25            3   16.86  15.494704   \n",
              "429     0.62   367.5     3.5    0.25            3   14.34  16.623535   \n",
              "104     0.86   294.0     7.0    0.10            2   26.48  27.213165   \n",
              "736     0.79   343.0     7.0    0.40            5   42.11  36.163766   \n",
              "\n",
              "     HeatLoad_pred_eqn  \n",
              "516          14.740955  \n",
              "427          15.494704  \n",
              "429          16.623535  \n",
              "104          27.213165  \n",
              "736          36.163766  "
            ]
          },
          "execution_count": 69,
          "metadata": {},
          "output_type": "execute_result"
        }
      ]
    },
    {
      "cell_type": "code",
      "metadata": {
        "id": "JNa3sLWNBoXa",
        "outputId": "71005677-f684-47bb-c853-879d4106c02e"
      },
      "source": [
        "mse = mean_squared_error(y_test,y_pred_heat)\n",
        "mae = mean_absolute_error(y_test,y_pred_heat)\n",
        "rmse = mse**0.5\n",
        "print('MSE',mse)\n",
        "print('MAE',mae)\n",
        "print('RMSE',rmse)"
      ],
      "execution_count": null,
      "outputs": [
        {
          "name": "stdout",
          "output_type": "stream",
          "text": [
            "MSE 9.667731142376889\n",
            "MAE 2.1991537205409544\n",
            "RMSE 3.109297531979995\n"
          ]
        }
      ]
    },
    {
      "cell_type": "markdown",
      "metadata": {
        "id": "SiyG8kZCBoXa"
      },
      "source": [
        "#### Predicting cooling load"
      ]
    },
    {
      "cell_type": "code",
      "metadata": {
        "id": "xtqQ8scYBoXa",
        "outputId": "111134f0-e8b6-4153-efeb-0f8bcdb3b454"
      },
      "source": [
        "df.corr()"
      ],
      "execution_count": null,
      "outputs": [
        {
          "data": {
            "text/html": [
              "<div>\n",
              "<style scoped>\n",
              "    .dataframe tbody tr th:only-of-type {\n",
              "        vertical-align: middle;\n",
              "    }\n",
              "\n",
              "    .dataframe tbody tr th {\n",
              "        vertical-align: top;\n",
              "    }\n",
              "\n",
              "    .dataframe thead th {\n",
              "        text-align: right;\n",
              "    }\n",
              "</style>\n",
              "<table border=\"1\" class=\"dataframe\">\n",
              "  <thead>\n",
              "    <tr style=\"text-align: right;\">\n",
              "      <th></th>\n",
              "      <th>compact</th>\n",
              "      <th>s_area</th>\n",
              "      <th>w_area</th>\n",
              "      <th>r_area</th>\n",
              "      <th>height</th>\n",
              "      <th>orient</th>\n",
              "      <th>g_area</th>\n",
              "      <th>g_area_dist</th>\n",
              "      <th>heat_load</th>\n",
              "      <th>cool_load</th>\n",
              "    </tr>\n",
              "  </thead>\n",
              "  <tbody>\n",
              "    <tr>\n",
              "      <th>compact</th>\n",
              "      <td>1.000000e+00</td>\n",
              "      <td>-9.919015e-01</td>\n",
              "      <td>-2.037817e-01</td>\n",
              "      <td>-8.688234e-01</td>\n",
              "      <td>8.277473e-01</td>\n",
              "      <td>0.000000</td>\n",
              "      <td>1.283986e-17</td>\n",
              "      <td>1.764620e-17</td>\n",
              "      <td>0.622272</td>\n",
              "      <td>0.634339</td>\n",
              "    </tr>\n",
              "    <tr>\n",
              "      <th>s_area</th>\n",
              "      <td>-9.919015e-01</td>\n",
              "      <td>1.000000e+00</td>\n",
              "      <td>1.955016e-01</td>\n",
              "      <td>8.807195e-01</td>\n",
              "      <td>-8.581477e-01</td>\n",
              "      <td>0.000000</td>\n",
              "      <td>1.318356e-16</td>\n",
              "      <td>-3.558613e-16</td>\n",
              "      <td>-0.658120</td>\n",
              "      <td>-0.672999</td>\n",
              "    </tr>\n",
              "    <tr>\n",
              "      <th>w_area</th>\n",
              "      <td>-2.037817e-01</td>\n",
              "      <td>1.955016e-01</td>\n",
              "      <td>1.000000e+00</td>\n",
              "      <td>-2.923165e-01</td>\n",
              "      <td>2.809757e-01</td>\n",
              "      <td>0.000000</td>\n",
              "      <td>-7.969726e-19</td>\n",
              "      <td>0.000000e+00</td>\n",
              "      <td>0.455671</td>\n",
              "      <td>0.427117</td>\n",
              "    </tr>\n",
              "    <tr>\n",
              "      <th>r_area</th>\n",
              "      <td>-8.688234e-01</td>\n",
              "      <td>8.807195e-01</td>\n",
              "      <td>-2.923165e-01</td>\n",
              "      <td>1.000000e+00</td>\n",
              "      <td>-9.725122e-01</td>\n",
              "      <td>0.000000</td>\n",
              "      <td>-1.381805e-16</td>\n",
              "      <td>-1.079129e-16</td>\n",
              "      <td>-0.861828</td>\n",
              "      <td>-0.862547</td>\n",
              "    </tr>\n",
              "    <tr>\n",
              "      <th>height</th>\n",
              "      <td>8.277473e-01</td>\n",
              "      <td>-8.581477e-01</td>\n",
              "      <td>2.809757e-01</td>\n",
              "      <td>-9.725122e-01</td>\n",
              "      <td>1.000000e+00</td>\n",
              "      <td>0.000000</td>\n",
              "      <td>1.861418e-18</td>\n",
              "      <td>0.000000e+00</td>\n",
              "      <td>0.889430</td>\n",
              "      <td>0.895785</td>\n",
              "    </tr>\n",
              "    <tr>\n",
              "      <th>orient</th>\n",
              "      <td>0.000000e+00</td>\n",
              "      <td>0.000000e+00</td>\n",
              "      <td>0.000000e+00</td>\n",
              "      <td>0.000000e+00</td>\n",
              "      <td>0.000000e+00</td>\n",
              "      <td>1.000000</td>\n",
              "      <td>0.000000e+00</td>\n",
              "      <td>0.000000e+00</td>\n",
              "      <td>-0.002587</td>\n",
              "      <td>0.014290</td>\n",
              "    </tr>\n",
              "    <tr>\n",
              "      <th>g_area</th>\n",
              "      <td>1.283986e-17</td>\n",
              "      <td>1.318356e-16</td>\n",
              "      <td>-7.969726e-19</td>\n",
              "      <td>-1.381805e-16</td>\n",
              "      <td>1.861418e-18</td>\n",
              "      <td>0.000000</td>\n",
              "      <td>1.000000e+00</td>\n",
              "      <td>2.129642e-01</td>\n",
              "      <td>0.269842</td>\n",
              "      <td>0.207505</td>\n",
              "    </tr>\n",
              "    <tr>\n",
              "      <th>g_area_dist</th>\n",
              "      <td>1.764620e-17</td>\n",
              "      <td>-3.558613e-16</td>\n",
              "      <td>0.000000e+00</td>\n",
              "      <td>-1.079129e-16</td>\n",
              "      <td>0.000000e+00</td>\n",
              "      <td>0.000000</td>\n",
              "      <td>2.129642e-01</td>\n",
              "      <td>1.000000e+00</td>\n",
              "      <td>0.087368</td>\n",
              "      <td>0.050525</td>\n",
              "    </tr>\n",
              "    <tr>\n",
              "      <th>heat_load</th>\n",
              "      <td>6.222719e-01</td>\n",
              "      <td>-6.581199e-01</td>\n",
              "      <td>4.556714e-01</td>\n",
              "      <td>-8.618281e-01</td>\n",
              "      <td>8.894305e-01</td>\n",
              "      <td>-0.002587</td>\n",
              "      <td>2.698417e-01</td>\n",
              "      <td>8.736846e-02</td>\n",
              "      <td>1.000000</td>\n",
              "      <td>0.975862</td>\n",
              "    </tr>\n",
              "    <tr>\n",
              "      <th>cool_load</th>\n",
              "      <td>6.343391e-01</td>\n",
              "      <td>-6.729989e-01</td>\n",
              "      <td>4.271170e-01</td>\n",
              "      <td>-8.625466e-01</td>\n",
              "      <td>8.957852e-01</td>\n",
              "      <td>0.014290</td>\n",
              "      <td>2.075050e-01</td>\n",
              "      <td>5.052512e-02</td>\n",
              "      <td>0.975862</td>\n",
              "      <td>1.000000</td>\n",
              "    </tr>\n",
              "  </tbody>\n",
              "</table>\n",
              "</div>"
            ],
            "text/plain": [
              "                  compact        s_area        w_area        r_area  \\\n",
              "compact      1.000000e+00 -9.919015e-01 -2.037817e-01 -8.688234e-01   \n",
              "s_area      -9.919015e-01  1.000000e+00  1.955016e-01  8.807195e-01   \n",
              "w_area      -2.037817e-01  1.955016e-01  1.000000e+00 -2.923165e-01   \n",
              "r_area      -8.688234e-01  8.807195e-01 -2.923165e-01  1.000000e+00   \n",
              "height       8.277473e-01 -8.581477e-01  2.809757e-01 -9.725122e-01   \n",
              "orient       0.000000e+00  0.000000e+00  0.000000e+00  0.000000e+00   \n",
              "g_area       1.283986e-17  1.318356e-16 -7.969726e-19 -1.381805e-16   \n",
              "g_area_dist  1.764620e-17 -3.558613e-16  0.000000e+00 -1.079129e-16   \n",
              "heat_load    6.222719e-01 -6.581199e-01  4.556714e-01 -8.618281e-01   \n",
              "cool_load    6.343391e-01 -6.729989e-01  4.271170e-01 -8.625466e-01   \n",
              "\n",
              "                   height    orient        g_area   g_area_dist  heat_load  \\\n",
              "compact      8.277473e-01  0.000000  1.283986e-17  1.764620e-17   0.622272   \n",
              "s_area      -8.581477e-01  0.000000  1.318356e-16 -3.558613e-16  -0.658120   \n",
              "w_area       2.809757e-01  0.000000 -7.969726e-19  0.000000e+00   0.455671   \n",
              "r_area      -9.725122e-01  0.000000 -1.381805e-16 -1.079129e-16  -0.861828   \n",
              "height       1.000000e+00  0.000000  1.861418e-18  0.000000e+00   0.889430   \n",
              "orient       0.000000e+00  1.000000  0.000000e+00  0.000000e+00  -0.002587   \n",
              "g_area       1.861418e-18  0.000000  1.000000e+00  2.129642e-01   0.269842   \n",
              "g_area_dist  0.000000e+00  0.000000  2.129642e-01  1.000000e+00   0.087368   \n",
              "heat_load    8.894305e-01 -0.002587  2.698417e-01  8.736846e-02   1.000000   \n",
              "cool_load    8.957852e-01  0.014290  2.075050e-01  5.052512e-02   0.975862   \n",
              "\n",
              "             cool_load  \n",
              "compact       0.634339  \n",
              "s_area       -0.672999  \n",
              "w_area        0.427117  \n",
              "r_area       -0.862547  \n",
              "height        0.895785  \n",
              "orient        0.014290  \n",
              "g_area        0.207505  \n",
              "g_area_dist   0.050525  \n",
              "heat_load     0.975862  \n",
              "cool_load     1.000000  "
            ]
          },
          "execution_count": 71,
          "metadata": {},
          "output_type": "execute_result"
        }
      ]
    },
    {
      "cell_type": "code",
      "metadata": {
        "id": "JXF_ByTjBoXa",
        "outputId": "341d1010-af66-4708-9964-677fce8bd79c"
      },
      "source": [
        "x2 = df.iloc[:,[0,2,4,5,6,7]]\n",
        "y2 = df.iloc[:,-1]\n",
        "print(x2.shape)\n",
        "print(y2.shape)"
      ],
      "execution_count": null,
      "outputs": [
        {
          "name": "stdout",
          "output_type": "stream",
          "text": [
            "(768, 6)\n",
            "(768,)\n"
          ]
        }
      ]
    },
    {
      "cell_type": "code",
      "metadata": {
        "id": "14bwH6E0BoXa",
        "outputId": "2f3caaff-0d0d-44d7-d120-2503b9a43666"
      },
      "source": [
        "x2.head(2)"
      ],
      "execution_count": null,
      "outputs": [
        {
          "data": {
            "text/html": [
              "<div>\n",
              "<style scoped>\n",
              "    .dataframe tbody tr th:only-of-type {\n",
              "        vertical-align: middle;\n",
              "    }\n",
              "\n",
              "    .dataframe tbody tr th {\n",
              "        vertical-align: top;\n",
              "    }\n",
              "\n",
              "    .dataframe thead th {\n",
              "        text-align: right;\n",
              "    }\n",
              "</style>\n",
              "<table border=\"1\" class=\"dataframe\">\n",
              "  <thead>\n",
              "    <tr style=\"text-align: right;\">\n",
              "      <th></th>\n",
              "      <th>compact</th>\n",
              "      <th>w_area</th>\n",
              "      <th>height</th>\n",
              "      <th>orient</th>\n",
              "      <th>g_area</th>\n",
              "      <th>g_area_dist</th>\n",
              "    </tr>\n",
              "  </thead>\n",
              "  <tbody>\n",
              "    <tr>\n",
              "      <th>0</th>\n",
              "      <td>0.98</td>\n",
              "      <td>294.0</td>\n",
              "      <td>7.0</td>\n",
              "      <td>2</td>\n",
              "      <td>0.0</td>\n",
              "      <td>0</td>\n",
              "    </tr>\n",
              "    <tr>\n",
              "      <th>1</th>\n",
              "      <td>0.98</td>\n",
              "      <td>294.0</td>\n",
              "      <td>7.0</td>\n",
              "      <td>3</td>\n",
              "      <td>0.0</td>\n",
              "      <td>0</td>\n",
              "    </tr>\n",
              "  </tbody>\n",
              "</table>\n",
              "</div>"
            ],
            "text/plain": [
              "   compact  w_area  height  orient  g_area  g_area_dist\n",
              "0     0.98   294.0     7.0       2     0.0            0\n",
              "1     0.98   294.0     7.0       3     0.0            0"
            ]
          },
          "execution_count": 78,
          "metadata": {},
          "output_type": "execute_result"
        }
      ]
    },
    {
      "cell_type": "code",
      "metadata": {
        "id": "2aJLdwoEBoXb",
        "outputId": "02657c8c-579d-4dbb-f68c-fd3ad3b00976"
      },
      "source": [
        "from sklearn.model_selection import train_test_split\n",
        "x_train,x_test,y_train,y_test = train_test_split(x2,y2,test_size=0.25)\n",
        "print(x_train.shape)\n",
        "print(x_test.shape)\n",
        "print(y_train.shape)\n",
        "print(y_test.shape)"
      ],
      "execution_count": null,
      "outputs": [
        {
          "name": "stdout",
          "output_type": "stream",
          "text": [
            "(576, 6)\n",
            "(192, 6)\n",
            "(576,)\n",
            "(192,)\n"
          ]
        }
      ]
    },
    {
      "cell_type": "code",
      "metadata": {
        "id": "XDEf-gDTBoXb",
        "outputId": "099796da-3bd4-44e5-b276-d259fcec2e8a"
      },
      "source": [
        "reg_cool = LinearRegression()\n",
        "reg_cool.fit(x_train,y_train)"
      ],
      "execution_count": null,
      "outputs": [
        {
          "data": {
            "text/plain": [
              "LinearRegression()"
            ]
          },
          "execution_count": 83,
          "metadata": {},
          "output_type": "execute_result"
        }
      ]
    },
    {
      "cell_type": "code",
      "metadata": {
        "id": "KoC6H6VuBoXb",
        "outputId": "2eb4641b-0f9f-44f0-a9d5-c17927a24509"
      },
      "source": [
        "print(reg_cool.score(x_train,y_train))\n",
        "print(reg_cool.score(x_test,y_test))\n"
      ],
      "execution_count": null,
      "outputs": [
        {
          "name": "stdout",
          "output_type": "stream",
          "text": [
            "0.8839097166718051\n",
            "0.8840867110562004\n"
          ]
        }
      ]
    },
    {
      "cell_type": "code",
      "metadata": {
        "id": "lvFhoBuUBoXb"
      },
      "source": [
        "y_pred_cool = reg_cool.predict(x_test)"
      ],
      "execution_count": null,
      "outputs": []
    },
    {
      "cell_type": "code",
      "metadata": {
        "id": "_BS9V8KXBoXb",
        "outputId": "cb1ce1eb-821e-45c0-e827-afc56db7696e"
      },
      "source": [
        "coef = reg_cool.coef_\n",
        "intercept = reg_cool.intercept_\n",
        "print(coef)\n",
        "print(intercept)"
      ],
      "execution_count": null,
      "outputs": [
        {
          "name": "stdout",
          "output_type": "stream",
          "text": [
            "[-15.75991271   0.02253102   5.45155973   0.03378287  14.51379377\n",
            "   0.07007549]\n",
            "-2.942683976308558\n"
          ]
        }
      ]
    },
    {
      "cell_type": "code",
      "metadata": {
        "id": "AH6CUHFsBoXb",
        "outputId": "ed284b9f-05bf-4701-a894-88520a6726fd"
      },
      "source": [
        "x_test['y_test'] = y_test\n",
        "x_test['y_pred'] = y_pred_cool\n",
        "x_test.head()"
      ],
      "execution_count": null,
      "outputs": [
        {
          "name": "stderr",
          "output_type": "stream",
          "text": [
            "E:\\Users\\lenovo\\Anaconda3\\lib\\site-packages\\ipykernel_launcher.py:1: SettingWithCopyWarning: \n",
            "A value is trying to be set on a copy of a slice from a DataFrame.\n",
            "Try using .loc[row_indexer,col_indexer] = value instead\n",
            "\n",
            "See the caveats in the documentation: https://pandas.pydata.org/pandas-docs/stable/user_guide/indexing.html#returning-a-view-versus-a-copy\n",
            "  \"\"\"Entry point for launching an IPython kernel.\n",
            "E:\\Users\\lenovo\\Anaconda3\\lib\\site-packages\\ipykernel_launcher.py:2: SettingWithCopyWarning: \n",
            "A value is trying to be set on a copy of a slice from a DataFrame.\n",
            "Try using .loc[row_indexer,col_indexer] = value instead\n",
            "\n",
            "See the caveats in the documentation: https://pandas.pydata.org/pandas-docs/stable/user_guide/indexing.html#returning-a-view-versus-a-copy\n",
            "  \n"
          ]
        },
        {
          "data": {
            "text/html": [
              "<div>\n",
              "<style scoped>\n",
              "    .dataframe tbody tr th:only-of-type {\n",
              "        vertical-align: middle;\n",
              "    }\n",
              "\n",
              "    .dataframe tbody tr th {\n",
              "        vertical-align: top;\n",
              "    }\n",
              "\n",
              "    .dataframe thead th {\n",
              "        text-align: right;\n",
              "    }\n",
              "</style>\n",
              "<table border=\"1\" class=\"dataframe\">\n",
              "  <thead>\n",
              "    <tr style=\"text-align: right;\">\n",
              "      <th></th>\n",
              "      <th>compact</th>\n",
              "      <th>w_area</th>\n",
              "      <th>height</th>\n",
              "      <th>orient</th>\n",
              "      <th>g_area</th>\n",
              "      <th>g_area_dist</th>\n",
              "      <th>y_test</th>\n",
              "      <th>y_pred</th>\n",
              "    </tr>\n",
              "  </thead>\n",
              "  <tbody>\n",
              "    <tr>\n",
              "      <th>270</th>\n",
              "      <td>0.71</td>\n",
              "      <td>269.5</td>\n",
              "      <td>3.5</td>\n",
              "      <td>4</td>\n",
              "      <td>0.1</td>\n",
              "      <td>5</td>\n",
              "      <td>14.26</td>\n",
              "      <td>12.957235</td>\n",
              "    </tr>\n",
              "    <tr>\n",
              "      <th>574</th>\n",
              "      <td>0.62</td>\n",
              "      <td>367.5</td>\n",
              "      <td>3.5</td>\n",
              "      <td>4</td>\n",
              "      <td>0.4</td>\n",
              "      <td>1</td>\n",
              "      <td>17.15</td>\n",
              "      <td>20.657503</td>\n",
              "    </tr>\n",
              "    <tr>\n",
              "      <th>217</th>\n",
              "      <td>0.74</td>\n",
              "      <td>245.0</td>\n",
              "      <td>3.5</td>\n",
              "      <td>3</td>\n",
              "      <td>0.1</td>\n",
              "      <td>4</td>\n",
              "      <td>13.36</td>\n",
              "      <td>11.828569</td>\n",
              "    </tr>\n",
              "    <tr>\n",
              "      <th>280</th>\n",
              "      <td>0.64</td>\n",
              "      <td>343.0</td>\n",
              "      <td>3.5</td>\n",
              "      <td>2</td>\n",
              "      <td>0.1</td>\n",
              "      <td>5</td>\n",
              "      <td>19.24</td>\n",
              "      <td>15.648893</td>\n",
              "    </tr>\n",
              "    <tr>\n",
              "      <th>727</th>\n",
              "      <td>0.90</td>\n",
              "      <td>318.5</td>\n",
              "      <td>7.0</td>\n",
              "      <td>5</td>\n",
              "      <td>0.4</td>\n",
              "      <td>5</td>\n",
              "      <td>37.27</td>\n",
              "      <td>34.535252</td>\n",
              "    </tr>\n",
              "  </tbody>\n",
              "</table>\n",
              "</div>"
            ],
            "text/plain": [
              "     compact  w_area  height  orient  g_area  g_area_dist  y_test     y_pred\n",
              "270     0.71   269.5     3.5       4     0.1            5   14.26  12.957235\n",
              "574     0.62   367.5     3.5       4     0.4            1   17.15  20.657503\n",
              "217     0.74   245.0     3.5       3     0.1            4   13.36  11.828569\n",
              "280     0.64   343.0     3.5       2     0.1            5   19.24  15.648893\n",
              "727     0.90   318.5     7.0       5     0.4            5   37.27  34.535252"
            ]
          },
          "execution_count": 88,
          "metadata": {},
          "output_type": "execute_result"
        }
      ]
    },
    {
      "cell_type": "code",
      "metadata": {
        "id": "5p7W9izhBoXb",
        "outputId": "8d32c040-fc95-4539-9676-9a22d829ed14"
      },
      "source": [
        "### Eqn \n",
        "x_test['CoolLoad_pred_eqn'] = x_test['compact']*coef[0] + \\\n",
        "                x_test['w_area']*coef[1] + x_test['height']*coef[2] + \\\n",
        "                x_test['orient']*coef[3] + x_test['g_area']*coef[4] + \\\n",
        "                x_test['g_area_dist']*coef[5] + intercept\n",
        "x_test.head()"
      ],
      "execution_count": null,
      "outputs": [
        {
          "name": "stderr",
          "output_type": "stream",
          "text": [
            "E:\\Users\\lenovo\\Anaconda3\\lib\\site-packages\\ipykernel_launcher.py:5: SettingWithCopyWarning: \n",
            "A value is trying to be set on a copy of a slice from a DataFrame.\n",
            "Try using .loc[row_indexer,col_indexer] = value instead\n",
            "\n",
            "See the caveats in the documentation: https://pandas.pydata.org/pandas-docs/stable/user_guide/indexing.html#returning-a-view-versus-a-copy\n",
            "  \"\"\"\n"
          ]
        },
        {
          "data": {
            "text/html": [
              "<div>\n",
              "<style scoped>\n",
              "    .dataframe tbody tr th:only-of-type {\n",
              "        vertical-align: middle;\n",
              "    }\n",
              "\n",
              "    .dataframe tbody tr th {\n",
              "        vertical-align: top;\n",
              "    }\n",
              "\n",
              "    .dataframe thead th {\n",
              "        text-align: right;\n",
              "    }\n",
              "</style>\n",
              "<table border=\"1\" class=\"dataframe\">\n",
              "  <thead>\n",
              "    <tr style=\"text-align: right;\">\n",
              "      <th></th>\n",
              "      <th>compact</th>\n",
              "      <th>w_area</th>\n",
              "      <th>height</th>\n",
              "      <th>orient</th>\n",
              "      <th>g_area</th>\n",
              "      <th>g_area_dist</th>\n",
              "      <th>y_test</th>\n",
              "      <th>y_pred</th>\n",
              "      <th>CoolLoad_pred_eqn</th>\n",
              "    </tr>\n",
              "  </thead>\n",
              "  <tbody>\n",
              "    <tr>\n",
              "      <th>270</th>\n",
              "      <td>0.71</td>\n",
              "      <td>269.5</td>\n",
              "      <td>3.5</td>\n",
              "      <td>4</td>\n",
              "      <td>0.1</td>\n",
              "      <td>5</td>\n",
              "      <td>14.26</td>\n",
              "      <td>12.957235</td>\n",
              "      <td>12.957235</td>\n",
              "    </tr>\n",
              "    <tr>\n",
              "      <th>574</th>\n",
              "      <td>0.62</td>\n",
              "      <td>367.5</td>\n",
              "      <td>3.5</td>\n",
              "      <td>4</td>\n",
              "      <td>0.4</td>\n",
              "      <td>1</td>\n",
              "      <td>17.15</td>\n",
              "      <td>20.657503</td>\n",
              "      <td>20.657503</td>\n",
              "    </tr>\n",
              "    <tr>\n",
              "      <th>217</th>\n",
              "      <td>0.74</td>\n",
              "      <td>245.0</td>\n",
              "      <td>3.5</td>\n",
              "      <td>3</td>\n",
              "      <td>0.1</td>\n",
              "      <td>4</td>\n",
              "      <td>13.36</td>\n",
              "      <td>11.828569</td>\n",
              "      <td>11.828569</td>\n",
              "    </tr>\n",
              "    <tr>\n",
              "      <th>280</th>\n",
              "      <td>0.64</td>\n",
              "      <td>343.0</td>\n",
              "      <td>3.5</td>\n",
              "      <td>2</td>\n",
              "      <td>0.1</td>\n",
              "      <td>5</td>\n",
              "      <td>19.24</td>\n",
              "      <td>15.648893</td>\n",
              "      <td>15.648893</td>\n",
              "    </tr>\n",
              "    <tr>\n",
              "      <th>727</th>\n",
              "      <td>0.90</td>\n",
              "      <td>318.5</td>\n",
              "      <td>7.0</td>\n",
              "      <td>5</td>\n",
              "      <td>0.4</td>\n",
              "      <td>5</td>\n",
              "      <td>37.27</td>\n",
              "      <td>34.535252</td>\n",
              "      <td>34.535252</td>\n",
              "    </tr>\n",
              "  </tbody>\n",
              "</table>\n",
              "</div>"
            ],
            "text/plain": [
              "     compact  w_area  height  orient  g_area  g_area_dist  y_test     y_pred  \\\n",
              "270     0.71   269.5     3.5       4     0.1            5   14.26  12.957235   \n",
              "574     0.62   367.5     3.5       4     0.4            1   17.15  20.657503   \n",
              "217     0.74   245.0     3.5       3     0.1            4   13.36  11.828569   \n",
              "280     0.64   343.0     3.5       2     0.1            5   19.24  15.648893   \n",
              "727     0.90   318.5     7.0       5     0.4            5   37.27  34.535252   \n",
              "\n",
              "     CoolLoad_pred_eqn  \n",
              "270          12.957235  \n",
              "574          20.657503  \n",
              "217          11.828569  \n",
              "280          15.648893  \n",
              "727          34.535252  "
            ]
          },
          "execution_count": 91,
          "metadata": {},
          "output_type": "execute_result"
        }
      ]
    },
    {
      "cell_type": "code",
      "metadata": {
        "id": "No4PVAJPBoXb",
        "outputId": "547fe2ce-5f80-455b-fc0a-10e546b89411"
      },
      "source": [
        "mse = mean_squared_error(y_test,y_pred_cool)\n",
        "mae = mean_absolute_error(y_test,y_pred_cool)\n",
        "rmse = mse**0.5\n",
        "print('MSE',mse)\n",
        "print('MAE',mae)\n",
        "print('RMSE',rmse)"
      ],
      "execution_count": null,
      "outputs": [
        {
          "name": "stdout",
          "output_type": "stream",
          "text": [
            "MSE 11.492016380358132\n",
            "MAE 2.2820044643822546\n",
            "RMSE 3.389987666697053\n"
          ]
        }
      ]
    },
    {
      "cell_type": "code",
      "metadata": {
        "id": "iSd-CfqxBoXc"
      },
      "source": [
        ""
      ],
      "execution_count": null,
      "outputs": []
    }
  ]
}